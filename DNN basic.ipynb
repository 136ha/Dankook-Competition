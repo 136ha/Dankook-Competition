{
 "cells": [
  {
   "cell_type": "code",
   "execution_count": 70,
   "metadata": {},
   "outputs": [],
   "source": [
    "import pandas as pd\n",
    "import numpy as np\n",
    "import matplotlib.pyplot as plt\n",
    "from sklearn.preprocessing import StandardScaler, MinMaxScaler, MaxAbsScaler, RobustScaler\n",
    "from sklearn.model_selection import train_test_split\n",
    "from keras.utils.np_utils import to_categorical\n",
    "from sklearn.decomposition import PCA\n",
    "from sklearn.metrics import confusion_matrix\n",
    "from keras.models import Sequential\n",
    "from keras.layers import Dense, Dropout\n",
    "from keras.metrics import categorical_crossentropy, categorical_accuracy\n",
    "from keras.utils import np_utils\n",
    "import seaborn as sns\n",
    "\n",
    "%matplotlib inline"
   ]
  },
  {
   "cell_type": "code",
   "execution_count": 71,
   "metadata": {},
   "outputs": [],
   "source": [
    "# load data\n",
    "train = pd.read_csv(\"./train.csv\", index_col=0)\n",
    "test = pd.read_csv(\"./test.csv\", index_col=0).reset_index(drop=True)\n",
    "submission = pd.read_csv(\"./sample_submission.csv\")"
   ]
  },
  {
   "cell_type": "code",
   "execution_count": 72,
   "metadata": {},
   "outputs": [],
   "source": [
    "train = train.dropna()\n",
    "train = train.drop(train[train['dered_g']==-9999].index)\n",
    "train = train.drop(train[train['dered_i']==-9999].index)\n",
    "train = train.drop(train[train['dered_z']==-9999].index).reset_index(drop=True)"
   ]
  },
  {
   "cell_type": "code",
   "execution_count": 73,
   "metadata": {},
   "outputs": [],
   "source": [
    "#유용한 값들 추가\n",
    "train['u-g'] = train['u'] - train['g']\n",
    "train['g-r'] = train['g'] - train['r']\n",
    "train['r-i'] = train['r'] - train['i']\n",
    "train['i-z'] = train['i'] - train['z']\n",
    "train['dered_u-g'] = train['dered_u'] - train['dered_g']\n",
    "train['dered_g-r'] = train['dered_g'] - train['dered_r']\n",
    "train['dered_r-i'] = train['dered_r'] - train['dered_i']\n",
    "train['dered_i-z'] = train['dered_i'] - train['dered_z']\n",
    "\n",
    "test['u-g'] = test['u'] - test['g']\n",
    "test['g-r'] = test['g'] - test['r']\n",
    "test['r-i'] = test['r'] - test['i']\n",
    "test['i-z'] = test['i'] - test['z']\n",
    "test['dered_u-g'] = test['dered_u'] - test['dered_g']\n",
    "test['dered_g-r'] = test['dered_g'] - test['dered_r']\n",
    "test['dered_r-i'] = test['dered_r'] - test['dered_i']\n",
    "test['dered_i-z'] = test['dered_i'] - test['dered_z']"
   ]
  },
  {
   "cell_type": "code",
   "execution_count": 74,
   "metadata": {},
   "outputs": [],
   "source": [
    "# n값 처리\n",
    "train['nO-nD'] = train['nObserve'] - train['nDetect']\n",
    "train = train.drop(['nObserve', 'nDetect', 'airmass_u', 'airmass_g', 'airmass_r', 'airmass_i', 'airmass_z'], axis=1)\n",
    "\n",
    "test['nO-nD'] = test['nObserve'] - test['nDetect']\n",
    "test = test.drop(['nObserve', 'nDetect', 'airmass_u', 'airmass_g', 'airmass_r', 'airmass_i', 'airmass_z'], axis=1)"
   ]
  },
  {
   "cell_type": "code",
   "execution_count": 77,
   "metadata": {},
   "outputs": [
    {
     "name": "stdout",
     "output_type": "stream",
     "text": [
      "Size of training data: (319996, 21)\n",
      "Size of test data: (80000, 20)\n"
     ]
    }
   ],
   "source": [
    "print(f'Size of training data: {train.shape}')\n",
    "print(f'Size of test data: {test.shape}')"
   ]
  },
  {
   "cell_type": "code",
   "execution_count": 78,
   "metadata": {},
   "outputs": [],
   "source": [
    "Y = to_categorical(train['class'], num_classes=3)\n",
    "del train['class']\n",
    "\n",
    "robust_scaler = RobustScaler()\n",
    "robust_scaler.fit(train)\n",
    "X = pd.DataFrame(data=robust_scaler.transform(train), columns=train.columns)\n",
    "X_train,X_val,Y_train,Y_val = train_test_split(X,Y,test_size=0.25,random_state=42)"
   ]
  },
  {
   "cell_type": "code",
   "execution_count": 79,
   "metadata": {},
   "outputs": [],
   "source": [
    "# create a deep neural network model\n",
    "num_features = X_train.shape[1]\n",
    "dnn = Sequential()\n",
    "dnn.add(Dense(32, input_dim=num_features, activation='relu'))\n",
    "dnn.add(Dropout(0.1))\n",
    "dnn.add(Dense(32, activation='relu'))\n",
    "dnn.add(Dropout(0.1))\n",
    "dnn.add(Dense(16, activation='relu'))\n",
    "dnn.add(Dropout(0.05))\n",
    "dnn.add(Dense(16, activation='relu'))\n",
    "dnn.add(Dropout(0.05))\n",
    "dnn.add(Dense(16, activation='relu'))\n",
    "dnn.add(Dense(16, activation='relu'))\n",
    "dnn.add(Dense(3, activation='softmax', name='output'))\n",
    "\n",
    "dnn.compile(loss='categorical_crossentropy', optimizer='adam', \n",
    "              metrics=['categorical_accuracy'])"
   ]
  },
  {
   "cell_type": "code",
   "execution_count": 80,
   "metadata": {},
   "outputs": [
    {
     "name": "stdout",
     "output_type": "stream",
     "text": [
      "Epoch 1/15\n",
      "24000/24000 [==============================] - 24s 1ms/step - loss: 0.2567 - categorical_accuracy: 0.9032 - val_loss: 0.1974 - val_categorical_accuracy: 0.9189\n",
      "Epoch 2/15\n",
      "24000/24000 [==============================] - 25s 1ms/step - loss: 0.2071 - categorical_accuracy: 0.9184 - val_loss: 0.2133 - val_categorical_accuracy: 0.9186\n",
      "Epoch 3/15\n",
      "24000/24000 [==============================] - 25s 1ms/step - loss: 0.2001 - categorical_accuracy: 0.9205 - val_loss: 0.1996 - val_categorical_accuracy: 0.9189\n",
      "Epoch 4/15\n",
      "24000/24000 [==============================] - 24s 1ms/step - loss: 0.1968 - categorical_accuracy: 0.9205 - val_loss: 0.2210 - val_categorical_accuracy: 0.9072\n",
      "Epoch 5/15\n",
      "24000/24000 [==============================] - 24s 988us/step - loss: 0.1934 - categorical_accuracy: 0.9217 - val_loss: 0.1823 - val_categorical_accuracy: 0.9250\n",
      "Epoch 6/15\n",
      "24000/24000 [==============================] - 24s 998us/step - loss: 0.1913 - categorical_accuracy: 0.9226 - val_loss: 0.1838 - val_categorical_accuracy: 0.9243\n",
      "Epoch 7/15\n",
      "24000/24000 [==============================] - 24s 995us/step - loss: 0.1904 - categorical_accuracy: 0.9234 - val_loss: 0.1800 - val_categorical_accuracy: 0.9251\n",
      "Epoch 8/15\n",
      "24000/24000 [==============================] - 30s 1ms/step - loss: 0.1882 - categorical_accuracy: 0.9236 - val_loss: 0.1821 - val_categorical_accuracy: 0.9253\n",
      "Epoch 9/15\n",
      "24000/24000 [==============================] - 29s 1ms/step - loss: 0.1877 - categorical_accuracy: 0.9244 - val_loss: 0.1827 - val_categorical_accuracy: 0.9249\n",
      "Epoch 10/15\n",
      "24000/24000 [==============================] - 33s 1ms/step - loss: 0.1863 - categorical_accuracy: 0.9246 - val_loss: 0.1788 - val_categorical_accuracy: 0.9256\n",
      "Epoch 11/15\n",
      "24000/24000 [==============================] - 31s 1ms/step - loss: 0.1868 - categorical_accuracy: 0.9255 - val_loss: 0.1808 - val_categorical_accuracy: 0.9266\n",
      "Epoch 12/15\n",
      "24000/24000 [==============================] - 31s 1ms/step - loss: 0.1860 - categorical_accuracy: 0.9251 - val_loss: 0.1795 - val_categorical_accuracy: 0.9275\n",
      "Epoch 13/15\n",
      "24000/24000 [==============================] - 34s 1ms/step - loss: 0.1839 - categorical_accuracy: 0.9262 - val_loss: 0.1763 - val_categorical_accuracy: 0.9277\n",
      "Epoch 14/15\n",
      "24000/24000 [==============================] - 29s 1ms/step - loss: 0.1845 - categorical_accuracy: 0.9258 - val_loss: 0.1783 - val_categorical_accuracy: 0.9266\n",
      "Epoch 15/15\n",
      "24000/24000 [==============================] - 30s 1ms/step - loss: 0.1836 - categorical_accuracy: 0.9260 - val_loss: 0.1817 - val_categorical_accuracy: 0.9226\n"
     ]
    }
   ],
   "source": [
    "# train DNN\n",
    "my_epochs = 20\n",
    "history = dnn.fit(X_train, Y_train, epochs=my_epochs, batch_size=64,\n",
    "                    validation_data=(X_val, Y_val))"
   ]
  },
  {
   "cell_type": "code",
   "execution_count": 81,
   "metadata": {},
   "outputs": [
    {
     "data": {
      "image/png": "[encoded data removed]",
      "text/plain": [
       "<Figure size 432x288 with 1 Axes>"
      ]
     },
     "metadata": {
      "needs_background": "light"
     },
     "output_type": "display_data"
    }
   ],
   "source": [
    "# plot model loss while training\n",
    "epochs_arr = np.arange(1, my_epochs + 1, 1)\n",
    "my_history = history.history\n",
    "line1 = plt.plot(epochs_arr, my_history['loss'], 'r-', label='training loss')\n",
    "line2 = plt.plot(epochs_arr, my_history['val_loss'], 'b-', label='validation loss')\n",
    "plt.xlabel('Epochs')\n",
    "plt.ylabel('Loss')\n",
    "plt.title('Model loss')\n",
    "plt.legend()\n",
    "plt.show()"
   ]
  },
  {
   "cell_type": "code",
   "execution_count": 82,
   "metadata": {},
   "outputs": [
    {
     "data": {
      "image/png": "[encoded data removed]",
      "text/plain": [
       "<Figure size 432x288 with 1 Axes>"
      ]
     },
     "metadata": {
      "needs_background": "light"
     },
     "output_type": "display_data"
    }
   ],
   "source": [
    "# plot model accuracy while training\n",
    "line1 = plt.plot(epochs_arr, my_history['categorical_accuracy'], 'r-', label='training accuracy')\n",
    "line2 = plt.plot(epochs_arr, my_history['val_categorical_accuracy'], 'b-', label='validation accuracy')\n",
    "plt.xlabel('Epochs')\n",
    "plt.ylabel('Accuracy')\n",
    "plt.title('Model accuracy')\n",
    "plt.legend()\n",
    "plt.show()"
   ]
  },
  {
   "cell_type": "code",
   "execution_count": 83,
   "metadata": {},
   "outputs": [
    {
     "name": "stdout",
     "output_type": "stream",
     "text": [
      "Deep Neural Network\n",
      "Validation Accuracy: 92.25615\n"
     ]
    }
   ],
   "source": [
    "preds = pd.DataFrame(dnn.predict(X_val))\n",
    "preds = preds.idxmax(axis=1)\n",
    "Y_val = Y_val.dot([0,1,2])\n",
    "model_acc = (preds == Y_val).sum().astype(float) / len(preds) * 100\n",
    "\n",
    "print('Deep Neural Network')\n",
    "print('Validation Accuracy: %3.5f' % (model_acc))"
   ]
  }
 ],
 "metadata": {
  "kernelspec": {
   "display_name": "Python 3",
   "language": "python",
   "name": "python3"
  },
  "language_info": {
   "codemirror_mode": {
    "name": "ipython",
    "version": 3
   },
   "file_extension": ".py",
   "mimetype": "text/x-python",
   "name": "python",
   "nbconvert_exporter": "python",
   "pygments_lexer": "ipython3",
   "version": "3.7.4"
  }
 },
 "nbformat": 4,
 "nbformat_minor": 2
}
