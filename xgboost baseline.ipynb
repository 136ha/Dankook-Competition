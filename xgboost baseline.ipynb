{
 "cells": [
  {
   "cell_type": "code",
   "execution_count": 1,
   "metadata": {},
   "outputs": [],
   "source": [
    "import numpy as np\n",
    "import math\n",
    "import xgboost as xgb\n",
    "import pandas as pd\n",
    "from sklearn.metrics import accuracy_score\n",
    "from sklearn.model_selection import train_test_split\n",
    "from xgboost import plot_importance\n",
    "from datetime import datetime\n",
    "%matplotlib inline"
   ]
  },
  {
   "cell_type": "code",
   "execution_count": 2,
   "metadata": {},
   "outputs": [],
   "source": [
    "# load data\n",
    "train = pd.read_csv(\"./train.csv\", index_col=0)\n",
    "test = pd.read_csv(\"./test.csv\", index_col=0).reset_index(drop=True)\n",
    "submission = pd.read_csv(\"./sample_submission.csv\")"
   ]
  },
  {
   "cell_type": "code",
   "execution_count": 3,
   "metadata": {},
   "outputs": [],
   "source": [
    "train = train.dropna()\n",
    "train = train.drop(train[train['dered_g']==-9999].index)\n",
    "train = train.drop(train[train['dered_i']==-9999].index)\n",
    "train = train.drop(train[train['dered_z']==-9999].index)"
   ]
  },
  {
   "cell_type": "code",
   "execution_count": 4,
   "metadata": {},
   "outputs": [],
   "source": [
    "train['u-g'] = train['u'] - train['g']\n",
    "train['g-r'] = train['g'] - train['r']\n",
    "train['r-i'] = train['r'] - train['i']\n",
    "train['i-z'] = train['i'] - train['z']\n",
    "train['dered_u-g'] = train['dered_u'] - train['dered_g']\n",
    "train['dered_g-r'] = train['dered_g'] - train['dered_r']\n",
    "train['dered_r-i'] = train['dered_r'] - train['dered_i']\n",
    "train['dered_i-z'] = train['dered_i'] - train['dered_z']\n",
    "\n",
    "test['u-g'] = test['u'] - test['g']\n",
    "test['g-r'] = test['g'] - test['r']\n",
    "test['r-i'] = test['r'] - test['i']\n",
    "test['i-z'] = test['i'] - test['z']\n",
    "test['dered_u-g'] = test['dered_u'] - test['dered_g']\n",
    "test['dered_g-r'] = test['dered_g'] - test['dered_r']\n",
    "test['dered_r-i'] = test['dered_r'] - test['dered_i']\n",
    "test['dered_i-z'] = test['dered_i'] - test['dered_z']"
   ]
  },
  {
   "cell_type": "code",
   "execution_count": 5,
   "metadata": {},
   "outputs": [],
   "source": [
    "# ugriz = train[['u', 'g', 'r', 'i', 'z']]\n",
    "# dered_ugriz = train[['dered_u', 'dered_g', 'dered_r', 'dered_i', 'dered_z']]\n",
    "airmass = train[['airmass_u', 'airmass_g', 'airmass_r', 'airmass_i', 'airmass_z']]\n",
    "\n",
    "# train['ugriz'] = ugriz.median(axis = 1)\n",
    "# train['dered_ugriz'] = dered_ugriz.median(axis = 1)\n",
    "train[\"airmass\"] = airmass.median(axis = 1)"
   ]
  },
  {
   "cell_type": "code",
   "execution_count": 6,
   "metadata": {},
   "outputs": [],
   "source": [
    "# n값 처리\n",
    "train['nO-nD'] = train['nObserve'] - train['nDetect']\n",
    "test['nO-nD'] = test['nObserve'] - test['nDetect']"
   ]
  },
  {
   "cell_type": "code",
   "execution_count": 7,
   "metadata": {},
   "outputs": [],
   "source": [
    "# train = train.drop(['u', 'g', 'r', 'i', 'z'], axis=1)\n",
    "# train = train.drop(['dered_u', 'dered_g', 'dered_r', 'dered_i', 'dered_z'], axis=1)\n",
    "train = train.drop(['nObserve', 'nDetect'], axis=1)\n",
    "train = train.drop(['airmass_u', 'airmass_g', 'airmass_r', 'airmass_i', 'airmass_z'], axis=1)\n",
    "\n",
    "# test = test.drop(['u', 'g', 'r', 'i', 'z'], axis=1)\n",
    "# test = test.drop(['dered_u', 'dered_g', 'dered_r', 'dered_i', 'dered_z'], axis=1)\n",
    "test = test.drop(['nObserve', 'nDetect'], axis=1)\n",
    "test = test.drop(['airmass_u', 'airmass_g', 'airmass_r', 'airmass_i', 'airmass_z'], axis=1)"
   ]
  },
  {
   "cell_type": "code",
   "execution_count": 8,
   "metadata": {},
   "outputs": [],
   "source": [
    "# split data into X and y\n",
    "Y = train['class']\n",
    "del train['class']\n",
    "X = train"
   ]
  },
  {
   "cell_type": "code",
   "execution_count": 9,
   "metadata": {},
   "outputs": [],
   "source": [
    "# split data into train and test sets\n",
    "seed = 7\n",
    "test_size = 0.25\n",
    "X_train, X_test, y_train, y_test = train_test_split(X, Y, test_size=test_size, random_state=seed)\n",
    "eval_set = [(X_test, y_test)]"
   ]
  },
  {
   "cell_type": "code",
   "execution_count": 10,
   "metadata": {},
   "outputs": [
    {
     "name": "stdout",
     "output_type": "stream",
     "text": [
      "\n",
      "elapsed time =  12:35:37.059472\n"
     ]
    }
   ],
   "source": [
    "start_time = datetime.now()\n",
    "\n",
    "model = xgb.XGBClassifier(\n",
    "    objective='multi:softmax',\n",
    "    num_class=3,\n",
    "    booster='gbtree',\n",
    "    max_depth=12,\n",
    "    learning_rate=0.1,\n",
    "    n_estimators=500,\n",
    "    scale_pos_weight=1.2,\n",
    "    eval_set=eval_set,\n",
    "    early_stopping_rounds=20\n",
    ")\n",
    "\n",
    "model.fit(X_train, y_train)\n",
    "\n",
    "end_time = datetime.now() \n",
    "print(\"\\nelapsed time = \", end_time - start_time)"
   ]
  },
  {
   "cell_type": "code",
   "execution_count": 11,
   "metadata": {},
   "outputs": [
    {
     "data": {
      "text/plain": [
       "<matplotlib.axes._subplots.AxesSubplot at 0x1eb494f8e48>"
      ]
     },
     "execution_count": 11,
     "metadata": {},
     "output_type": "execute_result"
    },
    {
     "data": {
      "image/png": "[encoded data removed]",
      "text/plain": [
       "<Figure size 432x288 with 1 Axes>"
      ]
     },
     "metadata": {
      "needs_background": "light"
     },
     "output_type": "display_data"
    }
   ],
   "source": [
    "plot_importance(model)"
   ]
  },
  {
   "cell_type": "code",
   "execution_count": 12,
   "metadata": {},
   "outputs": [
    {
     "data": {
      "text/plain": [
       "0.9339116738959237"
      ]
     },
     "execution_count": 12,
     "metadata": {},
     "output_type": "execute_result"
    }
   ],
   "source": [
    "model_pred = model.predict(X_test)\n",
    "accuracy_score(y_test, model_pred)"
   ]
  },
  {
   "cell_type": "code",
   "execution_count": 13,
   "metadata": {},
   "outputs": [],
   "source": [
    "# FI = pd.DataFrame(data=model.feature_importances_.reshape(1, 57), columns=train[train_columns].columns)\n",
    "# FI.to_csv(\"feature.csv\",index=False, encoding='utf-8-sig')"
   ]
  },
  {
   "cell_type": "code",
   "execution_count": 14,
   "metadata": {},
   "outputs": [],
   "source": [
    "# pred = model.predict(test[test_columns])\n",
    "# submission['class'] = pred\n",
    "# submission.to_csv(\"submission_xgb.csv\",index=False, encoding='utf-8-sig')"
   ]
  }
 ],
 "metadata": {
  "kernelspec": {
   "display_name": "Python 3",
   "language": "python",
   "name": "python3"
  },
  "language_info": {
   "codemirror_mode": {
    "name": "ipython",
    "version": 3
   },
   "file_extension": ".py",
   "mimetype": "text/x-python",
   "name": "python",
   "nbconvert_exporter": "python",
   "pygments_lexer": "ipython3",
   "version": "3.7.4"
  }
 },
 "nbformat": 4,
 "nbformat_minor": 2
}
