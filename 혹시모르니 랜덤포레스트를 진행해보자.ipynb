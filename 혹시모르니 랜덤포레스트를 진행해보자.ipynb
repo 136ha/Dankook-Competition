{
 "cells": [
  {
   "cell_type": "code",
   "execution_count": 1,
   "metadata": {},
   "outputs": [
    {
     "name": "stderr",
     "output_type": "stream",
     "text": [
      "C:\\Users\\82104\\Anaconda3\\lib\\site-packages\\statsmodels\\tools\\_testing.py:19: FutureWarning: pandas.util.testing is deprecated. Use the functions in the public API at pandas.testing instead.\n",
      "  import pandas.util.testing as tm\n"
     ]
    }
   ],
   "source": [
    "import pandas as pd\n",
    "import numpy as np\n",
    "import matplotlib.pyplot as plt\n",
    "from sklearn.ensemble import RandomForestClassifier\n",
    "from sklearn.preprocessing import StandardScaler, RobustScaler\n",
    "from sklearn.decomposition import PCA\n",
    "from sklearn.metrics import confusion_matrix\n",
    "from sklearn.model_selection import train_test_split\n",
    "import seaborn as sns"
   ]
  },
  {
   "cell_type": "code",
   "execution_count": 2,
   "metadata": {},
   "outputs": [],
   "source": [
    "# load data\n",
    "train = pd.read_csv(\"./train.csv\", index_col=0)\n",
    "test = pd.read_csv(\"./test.csv\", index_col=0)\n",
    "submission = pd.read_csv(\"./sample_submission.csv\")"
   ]
  },
  {
   "cell_type": "code",
   "execution_count": 3,
   "metadata": {},
   "outputs": [],
   "source": [
    "#유용한 값들 추가\n",
    "train['u-g'] = train['u'] - train['g']\n",
    "train['g-r'] = train['g'] - train['r']\n",
    "train['r-i'] = train['r'] - train['i']\n",
    "train['i-z'] = train['i'] - train['z']\n",
    "train['dered_u-g'] = train['dered_u'] - train['dered_g']\n",
    "train['dered_g-r'] = train['dered_g'] - train['dered_r']\n",
    "train['dered_r-i'] = train['dered_r'] - train['dered_i']\n",
    "train['dered_i-z'] = train['dered_i'] - train['dered_z']\n",
    "\n",
    "test['u-g'] = test['u'] - test['g']\n",
    "test['g-r'] = test['g'] - test['r']\n",
    "test['r-i'] = test['r'] - test['i']\n",
    "test['i-z'] = test['i'] - test['z']\n",
    "test['dered_u-g'] = test['dered_u'] - test['dered_g']\n",
    "test['dered_g-r'] = test['dered_g'] - test['dered_r']\n",
    "test['dered_r-i'] = test['dered_r'] - test['dered_i']\n",
    "test['dered_i-z'] = test['dered_i'] - test['dered_z']"
   ]
  },
  {
   "cell_type": "code",
   "execution_count": 4,
   "metadata": {},
   "outputs": [],
   "source": [
    "train = train.drop(['nObserve', 'nDetect', 'airmass_u', 'airmass_g', 'airmass_r', 'airmass_i', 'airmass_z'], axis=1)\n",
    "test = test.drop(['nObserve', 'nDetect', 'airmass_u', 'airmass_g', 'airmass_r', 'airmass_i', 'airmass_z'], axis=1)"
   ]
  },
  {
   "cell_type": "code",
   "execution_count": 5,
   "metadata": {},
   "outputs": [],
   "source": [
    "# split data into X and y\n",
    "Y = train['class']\n",
    "del train['class']\n",
    "X = train"
   ]
  },
  {
   "cell_type": "code",
   "execution_count": 7,
   "metadata": {},
   "outputs": [],
   "source": [
    "#train-test-split\n",
    "X_train,X_test,y_train,y_test=train_test_split(X, Y, test_size=0.25, random_state=0)"
   ]
  },
  {
   "cell_type": "code",
   "execution_count": 8,
   "metadata": {},
   "outputs": [
    {
     "name": "stdout",
     "output_type": "stream",
     "text": [
      "Validation Accuracy: 93.45125\n"
     ]
    }
   ],
   "source": [
    "# scale features\n",
    "scaler = RobustScaler()\n",
    "scaler.fit(X_train) # fit scaler to training data only\n",
    "X_train = pd.DataFrame(scaler.transform(X_train), columns=X_train.columns)\n",
    "X_validation = pd.DataFrame(scaler.transform(X_test), columns=X_test.columns)\n",
    "X_test = pd.DataFrame(scaler.transform(test), columns=test.columns)\n",
    "\n",
    "# # apply principal component analysis to wavelength intensities\n",
    "# pca = PCA(n_components=3)\n",
    "# dfs = [X_train, X_validation, X_test]\n",
    "# for i in range(len(dfs)):\n",
    "#     df = dfs[i]\n",
    "#     ugriz = pca.fit_transform(df[['u', 'g', 'r', 'i', 'z']])\n",
    "#     df = pd.concat((df, pd.DataFrame(ugriz)), axis=1)\n",
    "#     df.rename({0: 'PCA1', 1: 'PCA2', 2: 'PCA3'}, axis=1, inplace=True)\n",
    "#     df.drop(['u', 'g', 'r', 'i', 'z'], axis=1, inplace=True)\n",
    "#     dfs[i] = df\n",
    "# X_train, X_validation, X_test = dfs\n",
    "\n",
    "# create a random forest model\n",
    "rfc = RandomForestClassifier(n_estimators=200)\n",
    "rfc.fit(X_train, y_train)\n",
    "preds = rfc.predict(X_validation)\n",
    "model_acc = (preds == y_test).sum().astype(float) / len(preds) * 100\n",
    "\n",
    "print('Validation Accuracy: %3.5f' % (model_acc))"
   ]
  },
  {
   "cell_type": "code",
   "execution_count": 9,
   "metadata": {},
   "outputs": [
    {
     "name": "stdout",
     "output_type": "stream",
     "text": [
      "           Importance\n",
      "Feature              \n",
      "redshift     0.369101\n",
      "dered_r-i    0.084827\n",
      "dered_u-g    0.066737\n",
      "g-r          0.055840\n",
      "u-g          0.054122\n",
      "dered_i-z    0.050383\n",
      "r-i          0.048287\n",
      "dered_g-r    0.040863\n",
      "r            0.040565\n",
      "i-z          0.031274\n",
      "i            0.027704\n",
      "u            0.027199\n",
      "dered_u      0.021755\n",
      "dered_r      0.019763\n",
      "z            0.014506\n",
      "dered_i      0.014403\n",
      "g            0.011614\n",
      "dered_g      0.011061\n",
      "dered_z      0.009995\n"
     ]
    },
    {
     "data": {
      "image/png": "[encoded data removed]",
      "text/plain": [
       "<Figure size 432x288 with 2 Axes>"
      ]
     },
     "metadata": {
      "needs_background": "light"
     },
     "output_type": "display_data"
    },
    {
     "name": "stdout",
     "output_type": "stream",
     "text": [
      "Recall:  [0.99823316 0.8047949  0.91662185]\n",
      "Precision:  [0.99720261 0.68322286 0.95512086]\n"
     ]
    }
   ],
   "source": [
    "# analyze feature importance in random forest model\n",
    "importances = pd.DataFrame({\n",
    "    'Feature': X_validation.columns,\n",
    "    'Importance': rfc.feature_importances_\n",
    "})\n",
    "importances = importances.sort_values(by='Importance', ascending=False)\n",
    "importances = importances.set_index('Feature')\n",
    "print(importances)\n",
    "\n",
    "# plot confusion matrices for both models\n",
    "labels = np.unique(Y)\n",
    "\n",
    "ax = plt.subplot(1, 1, 1)\n",
    "ax.set_aspect(1)\n",
    "cm = confusion_matrix(y_test, preds)\n",
    "sns.heatmap(cm, annot=True, fmt='d', xticklabels = labels,\n",
    "            yticklabels = labels, cbar_kws={'orientation': 'horizontal'})\n",
    "plt.xlabel('Actual values')\n",
    "plt.title('Random Forest Classifier')\n",
    "\n",
    "plt.show()\n",
    "\n",
    "# compute precision and recall\n",
    "precision = np.diag(cm) / np.sum(cm, axis = 0)\n",
    "recall = np.diag(cm) / np.sum(cm, axis = 1)\n",
    "\n",
    "print('Recall: ', precision)\n",
    "print('Precision: ', recall)"
   ]
  },
  {
   "cell_type": "code",
   "execution_count": 11,
   "metadata": {},
   "outputs": [],
   "source": [
    "# pred = rfc.predict(X_test)\n",
    "# submission['class'] = pred\n",
    "# submission.to_csv(\"submission_rf.csv\",index=False, encoding='utf-8-sig')"
   ]
  }
 ],
 "metadata": {
  "kernelspec": {
   "display_name": "Python 3",
   "language": "python",
   "name": "python3"
  },
  "language_info": {
   "codemirror_mode": {
    "name": "ipython",
    "version": 3
   },
   "file_extension": ".py",
   "mimetype": "text/x-python",
   "name": "python",
   "nbconvert_exporter": "python",
   "pygments_lexer": "ipython3",
   "version": "3.7.4"
  }
 },
 "nbformat": 4,
 "nbformat_minor": 2
}
