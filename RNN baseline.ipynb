{
 "cells": [
  {
   "cell_type": "code",
   "execution_count": 1,
   "metadata": {},
   "outputs": [],
   "source": [
    "import numpy as np\n",
    "import math\n",
    "import pandas as pd\n",
    "import random as rd\n",
    "from sklearn.metrics import accuracy_score\n",
    "from sklearn.model_selection import train_test_split\n",
    "from sklearn.preprocessing import RobustScaler\n",
    "from datetime import datetime\n",
    "\n",
    "from keras.utils.np_utils import to_categorical\n",
    "\n",
    "from keras.models import Sequential\n",
    "from keras.layers import Dense, Dropout, LSTM\n",
    "from keras.optimizers import Adam\n",
    "from keras.losses import categorical_crossentropy\n",
    "from keras.callbacks import EarlyStopping\n",
    "\n",
    "%matplotlib inline"
   ]
  },
  {
   "cell_type": "code",
   "execution_count": 2,
   "metadata": {},
   "outputs": [],
   "source": [
    "# load data\n",
    "train = pd.read_csv(\"./train.csv\", index_col=0)\n",
    "test = pd.read_csv(\"./test.csv\", index_col=0).reset_index(drop=True)"
   ]
  },
  {
   "cell_type": "code",
   "execution_count": 3,
   "metadata": {},
   "outputs": [],
   "source": [
    "train = train.dropna()\n",
    "train = train.drop(train[train['dered_g']==-9999].index)\n",
    "train = train.drop(train[train['dered_i']==-9999].index)\n",
    "train = train.drop(train[train['dered_z']==-9999].index)"
   ]
  },
  {
   "cell_type": "code",
   "execution_count": 4,
   "metadata": {},
   "outputs": [],
   "source": [
    "train['u-g'] = train['u'] - train['g']\n",
    "train['g-r'] = train['g'] - train['r']\n",
    "train['r-i'] = train['r'] - train['i']\n",
    "train['i-z'] = train['i'] - train['z']\n",
    "train['dered_u-g'] = train['dered_u'] - train['dered_g']\n",
    "train['dered_g-r'] = train['dered_g'] - train['dered_r']\n",
    "train['dered_r-i'] = train['dered_r'] - train['dered_i']\n",
    "train['dered_i-z'] = train['dered_i'] - train['dered_z']\n",
    "\n",
    "test['u-g'] = test['u'] - test['g']\n",
    "test['g-r'] = test['g'] - test['r']\n",
    "test['r-i'] = test['r'] - test['i']\n",
    "test['i-z'] = test['i'] - test['z']\n",
    "test['dered_u-g'] = test['dered_u'] - test['dered_g']\n",
    "test['dered_g-r'] = test['dered_g'] - test['dered_r']\n",
    "test['dered_r-i'] = test['dered_r'] - test['dered_i']\n",
    "test['dered_i-z'] = test['dered_i'] - test['dered_z']"
   ]
  },
  {
   "cell_type": "code",
   "execution_count": 5,
   "metadata": {},
   "outputs": [],
   "source": [
    "X = train[['u', 'dered_u', 'airmass_u', 'g', 'dered_g', 'airmass_g', 'r', 'dered_r', 'airmass_r',\n",
    "           'i', 'dered_i', 'airmass_i', 'z', 'dered_z', 'airmass_z',\n",
    "           'u-g', 'dered_u-g', 'g-r', 'dered_g-r', 'r-i', 'dered_r-i', 'i-z', 'dered_i-z']]\n",
    "\n",
    "T = test[['u', 'dered_u', 'airmass_u', 'g', 'dered_g', 'airmass_g', 'r', 'dered_r', 'airmass_r',\n",
    "           'i', 'dered_i', 'airmass_i', 'z', 'dered_z', 'airmass_z',\n",
    "           'u-g', 'dered_u-g', 'g-r', 'dered_g-r', 'r-i', 'dered_r-i', 'i-z', 'dered_i-z']]"
   ]
  },
  {
   "cell_type": "code",
   "execution_count": 6,
   "metadata": {},
   "outputs": [],
   "source": [
    "# scale features\n",
    "scaler = RobustScaler()\n",
    "scaled_train = scaler.fit_transform(X)\n",
    "scaled_train = pd.DataFrame(data=scaled_train, columns=X.columns)\n",
    "scaled_test = scaler.transform(T)\n",
    "scaled_test = pd.DataFrame(data=scaled_test, columns=T.columns)"
   ]
  },
  {
   "cell_type": "code",
   "execution_count": 7,
   "metadata": {},
   "outputs": [],
   "source": [
    "ugriz_train = np.array(scaled_train[['u', 'dered_u', 'airmass_u', 'g', 'dered_g', 'airmass_g',\n",
    "                                     'r', 'dered_r', 'airmass_r', 'i', 'dered_i', 'airmass_i',\n",
    "                                     'z', 'dered_z', 'airmass_z']]).reshape(scaled_train.shape[0], 15, 1)\n",
    "color_train = np.array(scaled_train[['u-g', 'dered_u-g', 'g-r', 'dered_g-r', 'r-i', 'dered_r-i',\n",
    "                                     'i-z', 'dered_i-z']]).reshape(scaled_train.shape[0], 8, 1)\n",
    "\n",
    "ugriz_test = np.array(scaled_test[['u', 'dered_u', 'airmass_u', 'g', 'dered_g', 'airmass_g',\n",
    "                                   'r', 'dered_r', 'airmass_r', 'i', 'dered_i', 'airmass_i',\n",
    "                                   'z', 'dered_z', 'airmass_z']]).reshape(scaled_test.shape[0], 15, 1)\n",
    "color_test = np.array(scaled_test[['u-g', 'dered_u-g', 'g-r', 'dered_g-r', 'r-i', 'dered_r-i',\n",
    "                                   'i-z', 'dered_i-z']]).reshape(scaled_test.shape[0], 8, 1)\n",
    "\n",
    "labels = to_categorical(train['class'], num_classes=3)"
   ]
  },
  {
   "cell_type": "code",
   "execution_count": 8,
   "metadata": {},
   "outputs": [],
   "source": [
    "def rnn(X, inputshape, y):\n",
    "    X_train, X_val, y_train, y_val = train_test_split(X, y, test_size=0.2, random_state=7)\n",
    "    \n",
    "    model = Sequential()\n",
    "    model.add(LSTM(16, input_shape=(inputshape, 1), dropout=0.2, recurrent_dropout=0.2))\n",
    "    model.add(Dropout(0.05))\n",
    "    model.add(Dense(8, activation='softmax'))\n",
    "    model.add(Dropout(0.05))\n",
    "    model.add(Dense(3, activation='softmax'))\n",
    "    model.compile(loss='categorical_crossentropy', optimizer='adam', metrics=['accuracy'])\n",
    "\n",
    "    epochs = 5\n",
    "    batch_size = 32\n",
    "\n",
    "    history = model.fit(X_train, y_train, epochs=epochs, batch_size=batch_size,validation_split=0.1,callbacks=[EarlyStopping(monitor='val_loss', patience=3, min_delta=0.0001)])\n",
    "    \n",
    "    score,acc = model.evaluate(X_val, y_val, verbose = 2, batch_size = batch_size)\n",
    "    print(\"score: %.3f\" % (score))\n",
    "    print(\"acc: %.3f\" % (acc))\n",
    "    \n",
    "    return model"
   ]
  },
  {
   "cell_type": "code",
   "execution_count": 9,
   "metadata": {},
   "outputs": [
    {
     "name": "stdout",
     "output_type": "stream",
     "text": [
      "Epoch 1/5\n",
      "7200/7200 [==============================] - 127s 18ms/step - loss: 0.8365 - accuracy: 0.6520 - val_loss: 0.7204 - val_accuracy: 0.7062\n",
      "Epoch 2/5\n",
      "7200/7200 [==============================] - 127s 18ms/step - loss: 0.7333 - accuracy: 0.6939 - val_loss: 0.6067 - val_accuracy: 0.7561\n",
      "Epoch 3/5\n",
      "7200/7200 [==============================] - 126s 17ms/step - loss: 0.6871 - accuracy: 0.7139 - val_loss: 0.5823 - val_accuracy: 0.7663\n",
      "Epoch 4/5\n",
      "7200/7200 [==============================] - 127s 18ms/step - loss: 0.6662 - accuracy: 0.7217 - val_loss: 0.5665 - val_accuracy: 0.7789\n",
      "Epoch 5/5\n",
      "7200/7200 [==============================] - 124s 17ms/step - loss: 0.6531 - accuracy: 0.7271 - val_loss: 0.5562 - val_accuracy: 0.7809\n",
      "2000/2000 - 5s - loss: 0.5612 - accuracy: 0.7790\n",
      "score: 0.561\n",
      "acc: 0.779\n"
     ]
    }
   ],
   "source": [
    "ugriz_model = rnn(ugriz_train, 15, labels)"
   ]
  },
  {
   "cell_type": "code",
   "execution_count": 10,
   "metadata": {},
   "outputs": [
    {
     "ename": "ValueError",
     "evalue": "Length of values (319996) does not match length of index (80000)",
     "output_type": "error",
     "traceback": [
      "\u001b[1;31m---------------------------------------------------------------------------\u001b[0m",
      "\u001b[1;31mValueError\u001b[0m                                Traceback (most recent call last)",
      "\u001b[1;32m<ipython-input-10-2b72d0ba4f64>\u001b[0m in \u001b[0;36m<module>\u001b[1;34m\u001b[0m\n\u001b[0;32m      1\u001b[0m \u001b[0mpred\u001b[0m \u001b[1;33m=\u001b[0m \u001b[0mugriz_model\u001b[0m\u001b[1;33m.\u001b[0m\u001b[0mpredict\u001b[0m\u001b[1;33m(\u001b[0m\u001b[0mugriz_train\u001b[0m\u001b[1;33m)\u001b[0m\u001b[1;33m\u001b[0m\u001b[1;33m\u001b[0m\u001b[0m\n\u001b[0;32m      2\u001b[0m \u001b[0mugriz_recovery\u001b[0m \u001b[1;33m=\u001b[0m \u001b[0mnp\u001b[0m\u001b[1;33m.\u001b[0m\u001b[0margmax\u001b[0m\u001b[1;33m(\u001b[0m\u001b[0mpred\u001b[0m\u001b[1;33m,\u001b[0m \u001b[0maxis\u001b[0m\u001b[1;33m=\u001b[0m\u001b[1;36m1\u001b[0m\u001b[1;33m)\u001b[0m\u001b[1;33m.\u001b[0m\u001b[0mreshape\u001b[0m\u001b[1;33m(\u001b[0m\u001b[1;33m-\u001b[0m\u001b[1;36m1\u001b[0m\u001b[1;33m,\u001b[0m \u001b[1;36m1\u001b[0m\u001b[1;33m)\u001b[0m\u001b[1;33m\u001b[0m\u001b[1;33m\u001b[0m\u001b[0m\n\u001b[1;32m----> 3\u001b[1;33m \u001b[0msubmission\u001b[0m\u001b[1;33m[\u001b[0m\u001b[1;34m'ugriz_train'\u001b[0m\u001b[1;33m]\u001b[0m \u001b[1;33m=\u001b[0m \u001b[0mugriz_recovery\u001b[0m\u001b[1;33m\u001b[0m\u001b[1;33m\u001b[0m\u001b[0m\n\u001b[0m",
      "\u001b[1;32m~\\Anaconda3\\lib\\site-packages\\pandas\\core\\frame.py\u001b[0m in \u001b[0;36m__setitem__\u001b[1;34m(self, key, value)\u001b[0m\n\u001b[0;32m   3038\u001b[0m         \u001b[1;32melse\u001b[0m\u001b[1;33m:\u001b[0m\u001b[1;33m\u001b[0m\u001b[1;33m\u001b[0m\u001b[0m\n\u001b[0;32m   3039\u001b[0m             \u001b[1;31m# set column\u001b[0m\u001b[1;33m\u001b[0m\u001b[1;33m\u001b[0m\u001b[1;33m\u001b[0m\u001b[0m\n\u001b[1;32m-> 3040\u001b[1;33m             \u001b[0mself\u001b[0m\u001b[1;33m.\u001b[0m\u001b[0m_set_item\u001b[0m\u001b[1;33m(\u001b[0m\u001b[0mkey\u001b[0m\u001b[1;33m,\u001b[0m \u001b[0mvalue\u001b[0m\u001b[1;33m)\u001b[0m\u001b[1;33m\u001b[0m\u001b[1;33m\u001b[0m\u001b[0m\n\u001b[0m\u001b[0;32m   3041\u001b[0m \u001b[1;33m\u001b[0m\u001b[0m\n\u001b[0;32m   3042\u001b[0m     \u001b[1;32mdef\u001b[0m \u001b[0m_setitem_slice\u001b[0m\u001b[1;33m(\u001b[0m\u001b[0mself\u001b[0m\u001b[1;33m,\u001b[0m \u001b[0mkey\u001b[0m\u001b[1;33m:\u001b[0m \u001b[0mslice\u001b[0m\u001b[1;33m,\u001b[0m \u001b[0mvalue\u001b[0m\u001b[1;33m)\u001b[0m\u001b[1;33m:\u001b[0m\u001b[1;33m\u001b[0m\u001b[1;33m\u001b[0m\u001b[0m\n",
      "\u001b[1;32m~\\Anaconda3\\lib\\site-packages\\pandas\\core\\frame.py\u001b[0m in \u001b[0;36m_set_item\u001b[1;34m(self, key, value)\u001b[0m\n\u001b[0;32m   3114\u001b[0m         \"\"\"\n\u001b[0;32m   3115\u001b[0m         \u001b[0mself\u001b[0m\u001b[1;33m.\u001b[0m\u001b[0m_ensure_valid_index\u001b[0m\u001b[1;33m(\u001b[0m\u001b[0mvalue\u001b[0m\u001b[1;33m)\u001b[0m\u001b[1;33m\u001b[0m\u001b[1;33m\u001b[0m\u001b[0m\n\u001b[1;32m-> 3116\u001b[1;33m         \u001b[0mvalue\u001b[0m \u001b[1;33m=\u001b[0m \u001b[0mself\u001b[0m\u001b[1;33m.\u001b[0m\u001b[0m_sanitize_column\u001b[0m\u001b[1;33m(\u001b[0m\u001b[0mkey\u001b[0m\u001b[1;33m,\u001b[0m \u001b[0mvalue\u001b[0m\u001b[1;33m)\u001b[0m\u001b[1;33m\u001b[0m\u001b[1;33m\u001b[0m\u001b[0m\n\u001b[0m\u001b[0;32m   3117\u001b[0m         \u001b[0mNDFrame\u001b[0m\u001b[1;33m.\u001b[0m\u001b[0m_set_item\u001b[0m\u001b[1;33m(\u001b[0m\u001b[0mself\u001b[0m\u001b[1;33m,\u001b[0m \u001b[0mkey\u001b[0m\u001b[1;33m,\u001b[0m \u001b[0mvalue\u001b[0m\u001b[1;33m)\u001b[0m\u001b[1;33m\u001b[0m\u001b[1;33m\u001b[0m\u001b[0m\n\u001b[0;32m   3118\u001b[0m \u001b[1;33m\u001b[0m\u001b[0m\n",
      "\u001b[1;32m~\\Anaconda3\\lib\\site-packages\\pandas\\core\\frame.py\u001b[0m in \u001b[0;36m_sanitize_column\u001b[1;34m(self, key, value, broadcast)\u001b[0m\n\u001b[0;32m   3759\u001b[0m \u001b[1;33m\u001b[0m\u001b[0m\n\u001b[0;32m   3760\u001b[0m             \u001b[1;31m# turn me into an ndarray\u001b[0m\u001b[1;33m\u001b[0m\u001b[1;33m\u001b[0m\u001b[1;33m\u001b[0m\u001b[0m\n\u001b[1;32m-> 3761\u001b[1;33m             \u001b[0mvalue\u001b[0m \u001b[1;33m=\u001b[0m \u001b[0msanitize_index\u001b[0m\u001b[1;33m(\u001b[0m\u001b[0mvalue\u001b[0m\u001b[1;33m,\u001b[0m \u001b[0mself\u001b[0m\u001b[1;33m.\u001b[0m\u001b[0mindex\u001b[0m\u001b[1;33m)\u001b[0m\u001b[1;33m\u001b[0m\u001b[1;33m\u001b[0m\u001b[0m\n\u001b[0m\u001b[0;32m   3762\u001b[0m             \u001b[1;32mif\u001b[0m \u001b[1;32mnot\u001b[0m \u001b[0misinstance\u001b[0m\u001b[1;33m(\u001b[0m\u001b[0mvalue\u001b[0m\u001b[1;33m,\u001b[0m \u001b[1;33m(\u001b[0m\u001b[0mnp\u001b[0m\u001b[1;33m.\u001b[0m\u001b[0mndarray\u001b[0m\u001b[1;33m,\u001b[0m \u001b[0mIndex\u001b[0m\u001b[1;33m)\u001b[0m\u001b[1;33m)\u001b[0m\u001b[1;33m:\u001b[0m\u001b[1;33m\u001b[0m\u001b[1;33m\u001b[0m\u001b[0m\n\u001b[0;32m   3763\u001b[0m                 \u001b[1;32mif\u001b[0m \u001b[0misinstance\u001b[0m\u001b[1;33m(\u001b[0m\u001b[0mvalue\u001b[0m\u001b[1;33m,\u001b[0m \u001b[0mlist\u001b[0m\u001b[1;33m)\u001b[0m \u001b[1;32mand\u001b[0m \u001b[0mlen\u001b[0m\u001b[1;33m(\u001b[0m\u001b[0mvalue\u001b[0m\u001b[1;33m)\u001b[0m \u001b[1;33m>\u001b[0m \u001b[1;36m0\u001b[0m\u001b[1;33m:\u001b[0m\u001b[1;33m\u001b[0m\u001b[1;33m\u001b[0m\u001b[0m\n",
      "\u001b[1;32m~\\Anaconda3\\lib\\site-packages\\pandas\\core\\internals\\construction.py\u001b[0m in \u001b[0;36msanitize_index\u001b[1;34m(data, index)\u001b[0m\n\u001b[0;32m    746\u001b[0m     \u001b[1;32mif\u001b[0m \u001b[0mlen\u001b[0m\u001b[1;33m(\u001b[0m\u001b[0mdata\u001b[0m\u001b[1;33m)\u001b[0m \u001b[1;33m!=\u001b[0m \u001b[0mlen\u001b[0m\u001b[1;33m(\u001b[0m\u001b[0mindex\u001b[0m\u001b[1;33m)\u001b[0m\u001b[1;33m:\u001b[0m\u001b[1;33m\u001b[0m\u001b[1;33m\u001b[0m\u001b[0m\n\u001b[0;32m    747\u001b[0m         raise ValueError(\n\u001b[1;32m--> 748\u001b[1;33m             \u001b[1;34m\"Length of values \"\u001b[0m\u001b[1;33m\u001b[0m\u001b[1;33m\u001b[0m\u001b[0m\n\u001b[0m\u001b[0;32m    749\u001b[0m             \u001b[1;34mf\"({len(data)}) \"\u001b[0m\u001b[1;33m\u001b[0m\u001b[1;33m\u001b[0m\u001b[0m\n\u001b[0;32m    750\u001b[0m             \u001b[1;34m\"does not match length of index \"\u001b[0m\u001b[1;33m\u001b[0m\u001b[1;33m\u001b[0m\u001b[0m\n",
      "\u001b[1;31mValueError\u001b[0m: Length of values (319996) does not match length of index (80000)"
     ]
    }
   ],
   "source": [
    "pred = ugriz_model.predict(ugriz_train)\n",
    "ugriz_recovery = np.argmax(pred, axis=1).reshape(-1, 1)\n",
    "submission['ugriz_train'] = ugriz_recovery"
   ]
  },
  {
   "cell_type": "code",
   "execution_count": null,
   "metadata": {},
   "outputs": [],
   "source": [
    "pred = ugriz_model.predict(ugriz_test)\n",
    "ugriz_recovery = np.argmax(pred, axis=1).reshape(-1, 1)\n",
    "submission['ugriz_test'] = ugriz_recovery"
   ]
  },
  {
   "cell_type": "code",
   "execution_count": null,
   "metadata": {},
   "outputs": [],
   "source": [
    "color_model = rnn(color_train, 8, labels)"
   ]
  },
  {
   "cell_type": "code",
   "execution_count": null,
   "metadata": {},
   "outputs": [],
   "source": [
    "pred = color_model.predict(color_train)\n",
    "color_recovery = np.argmax(pred, axis=1).reshape(-1, 1)\n",
    "submission['color_train'] = color_recovery"
   ]
  },
  {
   "cell_type": "code",
   "execution_count": null,
   "metadata": {},
   "outputs": [],
   "source": [
    "pred = color_model.predict(color_test)\n",
    "color_recovery = np.argmax(pred, axis=1).reshape(-1, 1)\n",
    "submission['color_test'] = color_recovery"
   ]
  },
  {
   "cell_type": "code",
   "execution_count": null,
   "metadata": {},
   "outputs": [],
   "source": [
    "rnn_result = submission.drop(['id', 'class'], axis=1)\n",
    "rnn_result.to_csv(\"rnn_result.csv\",index=False, encoding='utf-8-sig')"
   ]
  }
 ],
 "metadata": {
  "kernelspec": {
   "display_name": "Python 3",
   "language": "python",
   "name": "python3"
  },
  "language_info": {
   "codemirror_mode": {
    "name": "ipython",
    "version": 3
   },
   "file_extension": ".py",
   "mimetype": "text/x-python",
   "name": "python",
   "nbconvert_exporter": "python",
   "pygments_lexer": "ipython3",
   "version": "3.7.4"
  }
 },
 "nbformat": 4,
 "nbformat_minor": 2
}
