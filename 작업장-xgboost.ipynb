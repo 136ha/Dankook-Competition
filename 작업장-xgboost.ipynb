{
 "cells": [
  {
   "cell_type": "code",
   "execution_count": 132,
   "metadata": {},
   "outputs": [],
   "source": [
    "import numpy as np\n",
    "import math\n",
    "import xgboost as xgb\n",
    "import pandas as pd\n",
    "import random as rd\n",
    "from sklearn.metrics import accuracy_score\n",
    "from sklearn.model_selection import train_test_split\n",
    "from sklearn.preprocessing import RobustScaler\n",
    "from xgboost import plot_importance\n",
    "from datetime import datetime\n",
    "%matplotlib inline\n",
    "\n",
    "import random as rd\n",
    "from keras.utils.np_utils import to_categorical\n",
    "from keras.models import Sequential\n",
    "from keras.layers import Dense, Dropout, LSTM\n",
    "from keras.optimizers import Adam\n",
    "from keras.losses import categorical_crossentropy\n",
    "from keras.callbacks import EarlyStopping"
   ]
  },
  {
   "cell_type": "code",
   "execution_count": 133,
   "metadata": {},
   "outputs": [],
   "source": [
    "# load data\n",
    "train = pd.read_csv(\"./train.csv\", index_col=0)\n",
    "test = pd.read_csv(\"./test.csv\", index_col=0).reset_index(drop=True)\n",
    "submission = pd.read_csv(\"./sample_submission.csv\")"
   ]
  },
  {
   "cell_type": "code",
   "execution_count": 134,
   "metadata": {},
   "outputs": [],
   "source": [
    "train['u-g'] = train['u'] - train['g']\n",
    "train['g-r'] = train['g'] - train['r']\n",
    "train['r-i'] = train['r'] - train['i']\n",
    "train['i-z'] = train['i'] - train['z']\n",
    "train['dered_u-g'] = train['dered_u'] - train['dered_g']\n",
    "train['dered_g-r'] = train['dered_g'] - train['dered_r']\n",
    "train['dered_r-i'] = train['dered_r'] - train['dered_i']\n",
    "train['dered_i-z'] = train['dered_i'] - train['dered_z']\n",
    "\n",
    "test['u-g'] = test['u'] - test['g']\n",
    "test['g-r'] = test['g'] - test['r']\n",
    "test['r-i'] = test['r'] - test['i']\n",
    "test['i-z'] = test['i'] - test['z']\n",
    "test['dered_u-g'] = test['dered_u'] - test['dered_g']\n",
    "test['dered_g-r'] = test['dered_g'] - test['dered_r']\n",
    "test['dered_r-i'] = test['dered_r'] - test['dered_i']\n",
    "test['dered_i-z'] = test['dered_i'] - test['dered_z']"
   ]
  },
  {
   "cell_type": "code",
   "execution_count": 135,
   "metadata": {},
   "outputs": [],
   "source": [
    "train['r_u-g'] = train['redshift'] * train['u-g']\n",
    "train['r_g-r'] = train['redshift'] * train['g-r']\n",
    "train['r_r-i'] = train['redshift'] * train['r-i']\n",
    "train['r_i-z'] = train['redshift'] * train['i-z']\n",
    "train['r_dered_u-g'] = train['redshift'] * train['dered_u-g']\n",
    "train['r_dered_g-r'] = train['redshift'] * train['dered_g-r']\n",
    "train['r_dered_r-i'] = train['redshift'] * train['dered_r-i']\n",
    "train['r_dered_i-z'] = train['redshift'] * train['dered_i-z']\n",
    "\n",
    "test['r_u-g'] = test['redshift'] * test['u-g']\n",
    "test['r_g-r'] = test['redshift'] * test['g-r']\n",
    "test['r_r-i'] = test['redshift'] * test['r-i']\n",
    "test['r_i-z'] = test['redshift'] * test['i-z']\n",
    "test['r_dered_u-g'] = test['redshift'] * test['dered_u-g']\n",
    "test['r_dered_g-r'] = test['redshift'] * test['dered_g-r']\n",
    "test['r_dered_r-i'] = test['redshift'] * test['dered_r-i']\n",
    "test['r_dered_i-z'] = test['redshift'] * test['dered_i-z']"
   ]
  },
  {
   "cell_type": "code",
   "execution_count": 136,
   "metadata": {},
   "outputs": [],
   "source": [
    "# zip 함수를 이용하여 각 Magnitude별 max, min, max-min, std, sum을 구한다.\n",
    "ugriz = ['u', 'g', 'r', 'i', 'z']\n",
    "\n",
    "for a, b in zip(ugriz, [ugriz, ugriz, ugriz, ugriz, ugriz]):\n",
    "    train[f'{a}_max'] = train[b].max(axis=1)\n",
    "    test[f'{a}_max'] = test[b].max(axis=1)\n",
    "    \n",
    "    train[f'{a}_min'] = train[b].min(axis=1)\n",
    "    test[f'{a}_min'] = test[b].min(axis=1)\n",
    "    \n",
    "    train[f'{a}_diff'] = train[f'{a}_max'] - train[f'{a}_min']\n",
    "    test[f'{a}_diff'] = test[f'{a}_max'] - test[f'{a}_min']\n",
    "    \n",
    "    train[f'{a}_sum'] = train[b].sum(axis=1)\n",
    "    test[f'{a}_sum'] = test[b].sum(axis=1)"
   ]
  },
  {
   "cell_type": "code",
   "execution_count": 137,
   "metadata": {},
   "outputs": [],
   "source": [
    "dered_ugriz = ['dered_u', 'dered_g', 'dered_r', 'dered_i', 'dered_z']\n",
    "\n",
    "for a, b in zip(dered_ugriz, [dered_ugriz, dered_ugriz, dered_ugriz, dered_ugriz, dered_ugriz]):\n",
    "    train[f'{a}_max'] = train[b].max(axis=1)\n",
    "    test[f'{a}_max'] = test[b].max(axis=1)\n",
    "    \n",
    "    train[f'{a}_min'] = train[b].min(axis=1)\n",
    "    test[f'{a}_min'] = test[b].min(axis=1)\n",
    "    \n",
    "    train[f'{a}_diff'] = train[f'{a}_max'] - train[f'{a}_min']\n",
    "    test[f'{a}_diff'] = test[f'{a}_max'] - test[f'{a}_min']\n",
    "    \n",
    "    train[f'{a}_sum'] = train[b].sum(axis=1)\n",
    "    test[f'{a}_sum'] = test[b].sum(axis=1)"
   ]
  },
  {
   "cell_type": "code",
   "execution_count": 138,
   "metadata": {},
   "outputs": [],
   "source": [
    "# https://classic.sdss.org/education/kron_ARCS.pdf\n",
    "distance_train = []\n",
    "for rs in train['redshift']:\n",
    "    if rs > 0:\n",
    "        distance_train.append((rs / (1+rs)) * 13.5 * 10**9)\n",
    "    else:\n",
    "        distance_train.append((abs(rs-1) / abs(rs)) * 13.5 * 10**9)\n",
    "\n",
    "train['distance'] = distance_train"
   ]
  },
  {
   "cell_type": "code",
   "execution_count": 139,
   "metadata": {},
   "outputs": [],
   "source": [
    "highest_train = []\n",
    "for u, g, r, i, z in zip(train['dered_u'], train['dered_g'], train['dered_r'], train['dered_i'], train['dered_z']):\n",
    "    if max([u, g, r, i, z]) == u:\n",
    "        highest_train.append(u)\n",
    "    elif max([u, g, r, i, z]) == g:\n",
    "        highest_train.append(g)\n",
    "    elif max([u, g, r, i, z]) == r:\n",
    "        highest_train.append(r)\n",
    "    elif max([u, g, r, i, z]) == i:\n",
    "        highest_train.append(i)\n",
    "    elif max([u, g, r, i, z]) == z:\n",
    "        highest_train.append(z)\n",
    "train['highest'] = highest_train\n",
    "train['M'] = train['highest'] - 5*(np.log(train['distance']) - 1)"
   ]
  },
  {
   "cell_type": "code",
   "execution_count": 140,
   "metadata": {},
   "outputs": [],
   "source": [
    "# https://classic.sdss.org/education/kron_ARCS.pdf\n",
    "distance_test = []\n",
    "for rs in test['redshift']:\n",
    "    if rs > 0:\n",
    "        distance_test.append((rs / (1+rs)) * 13.5 * 10**9)\n",
    "    else:\n",
    "        distance_test.append((abs(rs-1) / abs(rs)) * 13.5 * 10**9)\n",
    "\n",
    "test['distance'] = distance_test"
   ]
  },
  {
   "cell_type": "code",
   "execution_count": 141,
   "metadata": {},
   "outputs": [],
   "source": [
    "highest_test = []\n",
    "for u, g, r, i, z in zip(test['dered_u'], test['dered_g'], test['dered_r'], test['dered_i'], test['dered_z']):\n",
    "    if max([u, g, r, i, z]) == u:\n",
    "        highest_test.append(u)\n",
    "    elif max([u, g, r, i, z]) == g:\n",
    "        highest_test.append(g)\n",
    "    elif max([u, g, r, i, z]) == r:\n",
    "        highest_test.append(r)\n",
    "    elif max([u, g, r, i, z]) == i:\n",
    "        highest_test.append(i)\n",
    "    elif max([u, g, r, i, z]) == z:\n",
    "        highest_test.append(z)\n",
    "test['highest'] = highest_test\n",
    "test['M'] = test['highest'] - 5*(np.log(test['distance']) - 1)"
   ]
  },
  {
   "cell_type": "code",
   "execution_count": 142,
   "metadata": {},
   "outputs": [],
   "source": [
    "# n값 처리\n",
    "train['nO-nD'] = train['nObserve'] - train['nDetect']\n",
    "test['nO-nD'] = test['nObserve'] - test['nDetect']"
   ]
  },
  {
   "cell_type": "code",
   "execution_count": 143,
   "metadata": {},
   "outputs": [],
   "source": [
    "# 단순 나눗셈\n",
    "train['u/dered_u'] = train['u'] / train['dered_u'] - 1\n",
    "train['g/dered_g'] = train['g'] / train['dered_g'] - 1\n",
    "train['r/dered_r'] = train['r'] / train['dered_r'] - 1\n",
    "train['i/dered_i'] = train['i'] / train['dered_i'] - 1\n",
    "train['z/dered_z'] = train['z'] / train['dered_z'] - 1\n",
    "\n",
    "test['u/dered_u'] = test['u'] / test['dered_u'] - 1\n",
    "test['g/dered_g'] = test['g'] / test['dered_g'] - 1\n",
    "test['r/dered_r'] = test['r'] / test['dered_r'] - 1\n",
    "test['i/dered_i'] = test['i'] / test['dered_i'] - 1\n",
    "test['z/dered_z'] = test['z'] / test['dered_z'] - 1"
   ]
  },
  {
   "cell_type": "code",
   "execution_count": 144,
   "metadata": {},
   "outputs": [],
   "source": [
    "train['M_u'] = train['u'] - 5*(np.log(train['distance']) - 1)\n",
    "train['M_g'] = train['g'] - 5*(np.log(train['distance']) - 1)\n",
    "train['M_r'] = train['r'] - 5*(np.log(train['distance']) - 1)\n",
    "train['M_i'] = train['i'] - 5*(np.log(train['distance']) - 1)\n",
    "train['M_z'] = train['z'] - 5*(np.log(train['distance']) - 1)\n",
    "train['M_dered_u'] = train['dered_u'] - 5*(np.log(train['distance']) - 1)\n",
    "train['M_dered_g'] = train['dered_g'] - 5*(np.log(train['distance']) - 1)\n",
    "train['M_dered_r'] = train['dered_r'] - 5*(np.log(train['distance']) - 1)\n",
    "train['M_dered_i'] = train['dered_i'] - 5*(np.log(train['distance']) - 1)\n",
    "train['M_dered_z'] = train['dered_z'] - 5*(np.log(train['distance']) - 1)\n",
    "\n",
    "test['M_u'] = test['u'] - 5*(np.log(test['distance']) - 1)\n",
    "test['M_g'] = test['g'] - 5*(np.log(test['distance']) - 1)\n",
    "test['M_r'] = test['r'] - 5*(np.log(test['distance']) - 1)\n",
    "test['M_i'] = test['i'] - 5*(np.log(test['distance']) - 1)\n",
    "test['M_z'] = test['z'] - 5*(np.log(test['distance']) - 1)\n",
    "test['M_dered_u'] = test['dered_u'] - 5*(np.log(test['distance']) - 1)\n",
    "test['M_dered_g'] = test['dered_g'] - 5*(np.log(test['distance']) - 1)\n",
    "test['M_dered_r'] = test['dered_r'] - 5*(np.log(test['distance']) - 1)\n",
    "test['M_dered_i'] = test['dered_i'] - 5*(np.log(test['distance']) - 1)\n",
    "test['M_dered_z'] = test['dered_z'] - 5*(np.log(test['distance']) - 1)"
   ]
  },
  {
   "cell_type": "code",
   "execution_count": 145,
   "metadata": {},
   "outputs": [],
   "source": [
    "X = train[['u', 'g', 'r', 'i', 'z',\n",
    "           'dered_u', 'dered_g', 'dered_r', 'dered_i', 'dered_z',\n",
    "           'airmass_u', 'airmass_g', 'airmass_r', 'airmass_i', 'airmass_z',\n",
    "           'u-g', 'g-r', 'r-i', 'i-z',\n",
    "           'dered_u-g', 'dered_g-r', 'dered_r-i', 'dered_i-z']]\n",
    "\n",
    "T = test[['u', 'g', 'r', 'i', 'z',\n",
    "           'dered_u', 'dered_g', 'dered_r', 'dered_i', 'dered_z',\n",
    "           'airmass_u', 'airmass_g', 'airmass_r', 'airmass_i', 'airmass_z',\n",
    "           'u-g', 'g-r', 'r-i', 'i-z',\n",
    "           'dered_u-g', 'dered_g-r', 'dered_r-i', 'dered_i-z']]"
   ]
  },
  {
   "cell_type": "code",
   "execution_count": 146,
   "metadata": {},
   "outputs": [],
   "source": [
    "# scale features\n",
    "scaler = RobustScaler()\n",
    "scaled_train = scaler.fit_transform(X)\n",
    "scaled_train = pd.DataFrame(data=scaled_train, columns=X.columns)\n",
    "scaled_test = scaler.transform(T)\n",
    "scaled_test = pd.DataFrame(data=scaled_test, columns=T.columns)"
   ]
  },
  {
   "cell_type": "code",
   "execution_count": 147,
   "metadata": {},
   "outputs": [],
   "source": [
    "ugriz_train = np.array(scaled_train[['u', 'g', 'r', 'i', 'z']]).reshape(scaled_train.shape[0], 5, 1)\n",
    "dered_ugriz_train = np.array(scaled_train[['dered_u', 'dered_g', 'dered_r', 'dered_i', 'dered_z']]).reshape(scaled_train.shape[0], 5, 1)\n",
    "color_train = np.array(scaled_train[['u-g', 'g-r', 'r-i', 'i-z']]).reshape(scaled_train.shape[0], 4, 1)\n",
    "dered_color_train = np.array(scaled_train[['dered_u-g', 'dered_g-r', 'dered_r-i', 'dered_i-z']]).reshape(scaled_train.shape[0], 4, 1)\n",
    "\n",
    "ugriz_test = np.array(scaled_test[['u', 'g', 'r', 'i', 'z']]).reshape(scaled_test.shape[0], 5, 1)\n",
    "dered_ugriz_test = np.array(scaled_test[['dered_u', 'dered_g', 'dered_r', 'dered_i', 'dered_z']]).reshape(scaled_test.shape[0], 5, 1)\n",
    "color_test = np.array(scaled_test[['u-g', 'g-r', 'r-i', 'i-z']]).reshape(scaled_test.shape[0], 4, 1)\n",
    "dered_color_test = np.array(scaled_test[['dered_u-g', 'dered_g-r', 'dered_r-i', 'dered_i-z']]).reshape(scaled_test.shape[0], 4, 1)\n",
    "\n",
    "labels = to_categorical(train['class'], num_classes=3)"
   ]
  },
  {
   "cell_type": "code",
   "execution_count": 148,
   "metadata": {},
   "outputs": [],
   "source": [
    "def rnn(X, inputshape, y):\n",
    "    X_train, X_val, y_train, y_val = train_test_split(X, y, test_size=0.2, random_state=7)\n",
    "    \n",
    "    model = Sequential()\n",
    "    model.add(LSTM(8, input_shape=(inputshape, 1), dropout=0.2, recurrent_dropout=0.2))\n",
    "    model.add(Dense(3, activation='softmax'))\n",
    "    model.compile(loss='categorical_crossentropy', optimizer='adam', metrics=['accuracy'])\n",
    "\n",
    "    epochs = 5\n",
    "    batch_size = 16\n",
    "\n",
    "    history = model.fit(X_train, y_train, epochs=epochs, batch_size=batch_size,validation_split=0.1,callbacks=[EarlyStopping(monitor='val_loss', patience=3, min_delta=0.0001)])\n",
    "    \n",
    "    score,acc = model.evaluate(X_val, y_val, verbose = 2, batch_size = batch_size)\n",
    "    print(\"score: %.3f\" % (score))\n",
    "    print(\"acc: %.3f\" % (acc))\n",
    "    \n",
    "    return model"
   ]
  },
  {
   "cell_type": "code",
   "execution_count": 149,
   "metadata": {},
   "outputs": [
    {
     "name": "stdout",
     "output_type": "stream",
     "text": [
      "Epoch 1/5\n",
      "14400/14400 [==============================] - 49s 3ms/step - loss: 0.7364 - accuracy: 0.6929 - val_loss: 0.6463 - val_accuracy: 0.7373\n",
      "Epoch 2/5\n",
      "14400/14400 [==============================] - 48s 3ms/step - loss: 0.6859 - accuracy: 0.7154 - val_loss: 0.6308 - val_accuracy: 0.7423\n",
      "Epoch 3/5\n",
      "14400/14400 [==============================] - 49s 3ms/step - loss: 0.6705 - accuracy: 0.7220 - val_loss: 0.6249 - val_accuracy: 0.7361\n",
      "Epoch 4/5\n",
      "14400/14400 [==============================] - 48s 3ms/step - loss: 0.6606 - accuracy: 0.7259 - val_loss: 0.6040 - val_accuracy: 0.7494\n",
      "Epoch 5/5\n",
      "14400/14400 [==============================] - 48s 3ms/step - loss: 0.6543 - accuracy: 0.7282 - val_loss: 0.5975 - val_accuracy: 0.7527\n",
      "WARNING:tensorflow:Callbacks method `on_test_batch_end` is slow compared to the batch time (batch time: 0.0000s vs `on_test_batch_end` time: 0.0010s). Check your callbacks.\n",
      "4000/4000 - 4s - loss: 0.5983 - accuracy: 0.7526\n",
      "score: 0.598\n",
      "acc: 0.753\n"
     ]
    }
   ],
   "source": [
    "ugriz_model = rnn(ugriz_train, 5, labels)"
   ]
  },
  {
   "cell_type": "code",
   "execution_count": 150,
   "metadata": {},
   "outputs": [],
   "source": [
    "pred = ugriz_model.predict(ugriz_train)\n",
    "ugriz_recovery = np.argmax(pred, axis=1).reshape(-1, 1)\n",
    "train['rnn_ugriz'] = ugriz_recovery"
   ]
  },
  {
   "cell_type": "code",
   "execution_count": 151,
   "metadata": {},
   "outputs": [],
   "source": [
    "pred = ugriz_model.predict(ugriz_test)\n",
    "ugriz_recovery = np.argmax(pred, axis=1).reshape(-1, 1)\n",
    "test['rnn_ugriz'] = ugriz_recovery"
   ]
  },
  {
   "cell_type": "code",
   "execution_count": 152,
   "metadata": {},
   "outputs": [
    {
     "name": "stdout",
     "output_type": "stream",
     "text": [
      "Epoch 1/5\n",
      "14400/14400 [==============================] - 50s 3ms/step - loss: 0.7320 - accuracy: 0.6929 - val_loss: 0.6268 - val_accuracy: 0.7393\n",
      "Epoch 2/5\n",
      "14400/14400 [==============================] - 44s 3ms/step - loss: 0.6746 - accuracy: 0.7197 - val_loss: 0.6054 - val_accuracy: 0.7555\n",
      "Epoch 3/5\n",
      "14400/14400 [==============================] - 45s 3ms/step - loss: 0.6600 - accuracy: 0.7283 - val_loss: 0.6060 - val_accuracy: 0.7542\n",
      "Epoch 4/5\n",
      "14400/14400 [==============================] - 44s 3ms/step - loss: 0.6515 - accuracy: 0.7328 - val_loss: 0.6070 - val_accuracy: 0.7531\n",
      "Epoch 5/5\n",
      "14400/14400 [==============================] - 44s 3ms/step - loss: 0.6481 - accuracy: 0.7358 - val_loss: 0.5838 - val_accuracy: 0.7700\n",
      "4000/4000 - 4s - loss: 0.5879 - accuracy: 0.7714\n",
      "score: 0.588\n",
      "acc: 0.771\n"
     ]
    }
   ],
   "source": [
    "dered_ugriz_model = rnn(dered_ugriz_train, 5, labels)"
   ]
  },
  {
   "cell_type": "code",
   "execution_count": 153,
   "metadata": {},
   "outputs": [],
   "source": [
    "pred = dered_ugriz_model.predict(dered_ugriz_train)\n",
    "ugriz_recovery = np.argmax(pred, axis=1).reshape(-1, 1)\n",
    "train['rnn_dered_ugriz'] = ugriz_recovery"
   ]
  },
  {
   "cell_type": "code",
   "execution_count": 154,
   "metadata": {},
   "outputs": [],
   "source": [
    "pred = dered_ugriz_model.predict(dered_ugriz_test)\n",
    "ugriz_recovery = np.argmax(pred, axis=1).reshape(-1, 1)\n",
    "test['rnn_dered_ugriz'] = ugriz_recovery"
   ]
  },
  {
   "cell_type": "code",
   "execution_count": 155,
   "metadata": {},
   "outputs": [
    {
     "name": "stdout",
     "output_type": "stream",
     "text": [
      "Epoch 1/5\n",
      "14400/14400 [==============================] - 41s 3ms/step - loss: 0.5374 - accuracy: 0.7904 - val_loss: 0.4086 - val_accuracy: 0.8492\n",
      "Epoch 2/5\n",
      "14400/14400 [==============================] - 40s 3ms/step - loss: 0.4647 - accuracy: 0.8219 - val_loss: 0.3793 - val_accuracy: 0.8605\n",
      "Epoch 3/5\n",
      "14400/14400 [==============================] - 43s 3ms/step - loss: 0.4420 - accuracy: 0.8321 - val_loss: 0.3703 - val_accuracy: 0.8611\n",
      "Epoch 4/5\n",
      "14400/14400 [==============================] - 40s 3ms/step - loss: 0.4340 - accuracy: 0.8358 - val_loss: 0.3686 - val_accuracy: 0.8621\n",
      "Epoch 5/5\n",
      "14400/14400 [==============================] - 40s 3ms/step - loss: 0.4289 - accuracy: 0.8370 - val_loss: 0.3583 - val_accuracy: 0.8661\n",
      "4000/4000 - 4s - loss: 0.3651 - accuracy: 0.8647\n",
      "score: 0.365\n",
      "acc: 0.865\n"
     ]
    }
   ],
   "source": [
    "color_model = rnn(color_train, 4, labels)"
   ]
  },
  {
   "cell_type": "code",
   "execution_count": 156,
   "metadata": {},
   "outputs": [],
   "source": [
    "pred = color_model.predict(color_train)\n",
    "color_recovery = np.argmax(pred, axis=1).reshape(-1, 1)\n",
    "train['rnn_color'] = color_recovery"
   ]
  },
  {
   "cell_type": "code",
   "execution_count": 157,
   "metadata": {},
   "outputs": [],
   "source": [
    "pred = color_model.predict(color_test)\n",
    "color_recovery = np.argmax(pred, axis=1).reshape(-1, 1)\n",
    "test['rnn_color'] = color_recovery"
   ]
  },
  {
   "cell_type": "code",
   "execution_count": 158,
   "metadata": {},
   "outputs": [
    {
     "name": "stdout",
     "output_type": "stream",
     "text": [
      "Epoch 1/5\n",
      "14400/14400 [==============================] - 41s 3ms/step - loss: 0.5067 - accuracy: 0.8045 - val_loss: 0.3713 - val_accuracy: 0.8628\n",
      "Epoch 2/5\n",
      "14400/14400 [==============================] - 41s 3ms/step - loss: 0.4371 - accuracy: 0.8342 - val_loss: 0.3538 - val_accuracy: 0.8693\n",
      "Epoch 3/5\n",
      "14400/14400 [==============================] - 41s 3ms/step - loss: 0.4184 - accuracy: 0.8418 - val_loss: 0.3404 - val_accuracy: 0.8758\n",
      "Epoch 4/5\n",
      "14400/14400 [==============================] - 41s 3ms/step - loss: 0.4089 - accuracy: 0.8457 - val_loss: 0.3412 - val_accuracy: 0.8735\n",
      "Epoch 5/5\n",
      "14400/14400 [==============================] - 44s 3ms/step - loss: 0.4038 - accuracy: 0.8476 - val_loss: 0.3310 - val_accuracy: 0.8786\n",
      "4000/4000 - 4s - loss: 0.3379 - accuracy: 0.8759\n",
      "score: 0.338\n",
      "acc: 0.876\n"
     ]
    }
   ],
   "source": [
    "dered_color_model = rnn(dered_color_train, 4, labels)"
   ]
  },
  {
   "cell_type": "code",
   "execution_count": 159,
   "metadata": {},
   "outputs": [],
   "source": [
    "pred = dered_color_model.predict(dered_color_train)\n",
    "color_recovery = np.argmax(pred, axis=1).reshape(-1, 1)\n",
    "train['rnn_dered_color'] = color_recovery"
   ]
  },
  {
   "cell_type": "code",
   "execution_count": 160,
   "metadata": {},
   "outputs": [],
   "source": [
    "pred = dered_color_model.predict(dered_color_test)\n",
    "color_recovery = np.argmax(pred, axis=1).reshape(-1, 1)\n",
    "test['rnn_dered_color'] = color_recovery"
   ]
  },
  {
   "cell_type": "code",
   "execution_count": 161,
   "metadata": {},
   "outputs": [],
   "source": [
    "bad_feature = ['g_max', 'g_min', 'g_diff', 'g_sum', 'r_max', 'r_min', 'r_diff', 'r_sum',\n",
    "               'i_max', 'i_min', 'i_diff', 'i_sum', 'z_max', 'z_min', 'z_diff', 'z_sum',\n",
    "               'dered_g_max', 'dered_g_min', 'dered_g_diff', 'dered_g_sum',\n",
    "               'dered_r_max', 'dered_r_min', 'dered_r_diff', 'dered_r_sum',\n",
    "               'dered_i_max', 'dered_i_min', 'dered_i_diff', 'dered_i_sum',\n",
    "               'dered_z_max', 'dered_z_min', 'dered_z_diff', 'dered_z_sum',\n",
    "               'class']"
   ]
  },
  {
   "cell_type": "code",
   "execution_count": 162,
   "metadata": {},
   "outputs": [],
   "source": [
    "useful_columns = [c for c in train.columns if c not in bad_feature]"
   ]
  },
  {
   "cell_type": "code",
   "execution_count": 163,
   "metadata": {},
   "outputs": [],
   "source": [
    "X = train[useful_columns]\n",
    "Y = train['class']"
   ]
  },
  {
   "cell_type": "code",
   "execution_count": 164,
   "metadata": {},
   "outputs": [],
   "source": [
    "# split data into train and test sets\n",
    "seed = 7\n",
    "test_size = 0.20\n",
    "X_train, X_val, y_train, y_val = train_test_split(X, Y, test_size=test_size, random_state=seed)\n",
    "eval_set = [(X_val, y_val)]"
   ]
  },
  {
   "cell_type": "code",
   "execution_count": 165,
   "metadata": {},
   "outputs": [
    {
     "name": "stdout",
     "output_type": "stream",
     "text": [
      "\n",
      "elapsed time =  2:56:51.065699\n"
     ]
    }
   ],
   "source": [
    "start_time = datetime.now()\n",
    "\n",
    "model = xgb.XGBClassifier(\n",
    "    objective='multi:softmax',\n",
    "    num_class=3,\n",
    "    booster='gbtree',\n",
    "    max_depth=12,\n",
    "    learning_rate=0.1,\n",
    "    n_estimators=1000,\n",
    "    scale_pos_weight=1.2,\n",
    "    eval_metric='merror',\n",
    "    eval_set=eval_set,\n",
    "    early_stopping_rounds=20\n",
    ")\n",
    "\n",
    "model.fit(X_train, y_train)\n",
    "\n",
    "end_time = datetime.now() \n",
    "print(\"\\nelapsed time = \", end_time - start_time)"
   ]
  },
  {
   "cell_type": "code",
   "execution_count": 166,
   "metadata": {},
   "outputs": [
    {
     "data": {
      "text/plain": [
       "<matplotlib.axes._subplots.AxesSubplot at 0x26118ae2248>"
      ]
     },
     "execution_count": 166,
     "metadata": {},
     "output_type": "execute_result"
    },
    {
     "data": {
      "image/png": "[encoded data removed]",
      "text/plain": [
       "<Figure size 432x288 with 1 Axes>"
      ]
     },
     "metadata": {
      "needs_background": "light"
     },
     "output_type": "display_data"
    }
   ],
   "source": [
    "plot_importance(model)"
   ]
  },
  {
   "cell_type": "code",
   "execution_count": 167,
   "metadata": {},
   "outputs": [
    {
     "data": {
      "text/plain": [
       "0.936125"
      ]
     },
     "execution_count": 167,
     "metadata": {},
     "output_type": "execute_result"
    }
   ],
   "source": [
    "model_pred = model.predict(X_val)\n",
    "accuracy_score(y_val, model_pred)"
   ]
  },
  {
   "cell_type": "code",
   "execution_count": 168,
   "metadata": {},
   "outputs": [],
   "source": [
    "pred = model.predict(test[useful_columns])\n",
    "submission['class'] = pred\n",
    "submission.to_csv(\"submission_try.csv\",index=False, encoding='utf-8-sig')"
   ]
  }
 ],
 "metadata": {
  "kernelspec": {
   "display_name": "Python 3",
   "language": "python",
   "name": "python3"
  },
  "language_info": {
   "codemirror_mode": {
    "name": "ipython",
    "version": 3
   },
   "file_extension": ".py",
   "mimetype": "text/x-python",
   "name": "python",
   "nbconvert_exporter": "python",
   "pygments_lexer": "ipython3",
   "version": "3.7.4"
  }
 },
 "nbformat": 4,
 "nbformat_minor": 2
}
