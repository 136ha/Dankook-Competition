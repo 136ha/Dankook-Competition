{
 "cells": [
  {
   "cell_type": "code",
   "execution_count": null,
   "metadata": {},
   "outputs": [],
   "source": [
    "import numpy as np \n",
    "import pandas as pd \n",
    "import math\n",
    "import matplotlib.pyplot as plt\n",
    "import keras\n",
    "from warnings import filterwarnings\n",
    "filterwarnings('ignore')"
   ]
  },
  {
   "cell_type": "code",
   "execution_count": null,
   "metadata": {},
   "outputs": [],
   "source": [
    "# load data\n",
    "train = pd.read_csv(\"./train.csv\", index_col=0)\n",
    "test = pd.read_csv(\"./test.csv\", index_col=0).reset_index(drop=True)\n",
    "submission = pd.read_csv(\"./sample_submission.csv\")"
   ]
  },
  {
   "cell_type": "code",
   "execution_count": null,
   "metadata": {},
   "outputs": [],
   "source": [
    "train = train.dropna()\n",
    "train = train.drop(train[train['dered_g']==-9999].index)\n",
    "train = train.drop(train[train['dered_i']==-9999].index)\n",
    "train = train.drop(train[train['dered_z']==-9999].index).reset_index(drop=True)"
   ]
  },
  {
   "cell_type": "code",
   "execution_count": null,
   "metadata": {},
   "outputs": [],
   "source": [
    "train['u-g'] = train['u'] - train['g']\n",
    "train['g-r'] = train['g'] - train['r']\n",
    "train['r-i'] = train['r'] - train['i']\n",
    "train['i-z'] = train['i'] - train['z']\n",
    "train['dered_u-g'] = train['dered_u'] - train['dered_g']\n",
    "train['dered_g-r'] = train['dered_g'] - train['dered_r']\n",
    "train['dered_r-i'] = train['dered_r'] - train['dered_i']\n",
    "train['dered_i-z'] = train['dered_i'] - train['dered_z']\n",
    "\n",
    "test['u-g'] = test['u'] - test['g']\n",
    "test['g-r'] = test['g'] - test['r']\n",
    "test['r-i'] = test['r'] - test['i']\n",
    "test['i-z'] = test['i'] - test['z']\n",
    "test['dered_u-g'] = test['dered_u'] - test['dered_g']\n",
    "test['dered_g-r'] = test['dered_g'] - test['dered_r']\n",
    "test['dered_r-i'] = test['dered_r'] - test['dered_i']\n",
    "test['dered_i-z'] = test['dered_i'] - test['dered_z']"
   ]
  },
  {
   "cell_type": "code",
   "execution_count": null,
   "metadata": {},
   "outputs": [],
   "source": [
    "train['r_u-g'] = train['redshift'] * train['u-g']\n",
    "train['r_g-r'] = train['redshift'] * train['g-r']\n",
    "train['r_r-i'] = train['redshift'] * train['r-i']\n",
    "train['r_i-z'] = train['redshift'] * train['i-z']\n",
    "train['r_dered_u-g'] = train['redshift'] * train['dered_u-g']\n",
    "train['r_dered_g-r'] = train['redshift'] * train['dered_g-r']\n",
    "train['r_dered_r-i'] = train['redshift'] * train['dered_r-i']\n",
    "train['r_dered_i-z'] = train['redshift'] * train['dered_i-z']\n",
    "\n",
    "test['r_u-g'] = test['redshift'] * test['u-g']\n",
    "test['r_g-r'] = test['redshift'] * test['g-r']\n",
    "test['r_r-i'] = test['redshift'] * test['r-i']\n",
    "test['r_i-z'] = test['redshift'] * test['i-z']\n",
    "test['r_dered_u-g'] = test['redshift'] * test['dered_u-g']\n",
    "test['r_dered_g-r'] = test['redshift'] * test['dered_g-r']\n",
    "test['r_dered_r-i'] = test['redshift'] * test['dered_r-i']\n",
    "test['r_dered_i-z'] = test['redshift'] * test['dered_i-z']"
   ]
  },
  {
   "cell_type": "code",
   "execution_count": null,
   "metadata": {},
   "outputs": [],
   "source": [
    "# zip 함수를 이용하여 각 Magnitude별 max, min, max-min, std, sum을 구한다.\n",
    "ugriz = ['u', 'g', 'r', 'i', 'z']\n",
    "\n",
    "for a, b in zip(ugriz, [ugriz, ugriz, ugriz, ugriz, ugriz]):\n",
    "    train[f'{a}_max'] = train[b].max(axis=1)\n",
    "    test[f'{a}_max'] = test[b].max(axis=1)\n",
    "    \n",
    "    train[f'{a}_min'] = train[b].min(axis=1)\n",
    "    test[f'{a}_min'] = test[b].min(axis=1)\n",
    "    \n",
    "    train[f'{a}_diff'] = train[f'{a}_max'] - train[f'{a}_min']\n",
    "    test[f'{a}_diff'] = test[f'{a}_max'] - test[f'{a}_min']\n",
    "    \n",
    "    train[f'{a}_sum'] = train[b].sum(axis=1)\n",
    "    test[f'{a}_sum'] = test[b].sum(axis=1)"
   ]
  },
  {
   "cell_type": "code",
   "execution_count": null,
   "metadata": {},
   "outputs": [],
   "source": [
    "dered_ugriz = ['dered_u', 'dered_g', 'dered_r', 'dered_i', 'dered_z']\n",
    "\n",
    "for a, b in zip(dered_ugriz, [dered_ugriz, dered_ugriz, dered_ugriz, dered_ugriz, dered_ugriz]):\n",
    "    train[f'{a}_max'] = train[b].max(axis=1)\n",
    "    test[f'{a}_max'] = test[b].max(axis=1)\n",
    "    \n",
    "    train[f'{a}_min'] = train[b].min(axis=1)\n",
    "    test[f'{a}_min'] = test[b].min(axis=1)\n",
    "    \n",
    "    train[f'{a}_diff'] = train[f'{a}_max'] - train[f'{a}_min']\n",
    "    test[f'{a}_diff'] = test[f'{a}_max'] - test[f'{a}_min']\n",
    "    \n",
    "    train[f'{a}_sum'] = train[b].sum(axis=1)\n",
    "    test[f'{a}_sum'] = test[b].sum(axis=1)"
   ]
  },
  {
   "cell_type": "code",
   "execution_count": null,
   "metadata": {},
   "outputs": [],
   "source": [
    "# https://classic.sdss.org/education/kron_ARCS.pdf\n",
    "distance_train = []\n",
    "for rs in train['redshift']:\n",
    "    if rs > 0:\n",
    "        distance_train.append((rs / (1+rs)) * 13.5 * 10**9)\n",
    "    else:\n",
    "        distance_train.append(10)\n",
    "\n",
    "train['distance'] = distance_train"
   ]
  },
  {
   "cell_type": "code",
   "execution_count": null,
   "metadata": {},
   "outputs": [],
   "source": [
    "# https://classic.sdss.org/education/kron_ARCS.pdf\n",
    "distance_test = []\n",
    "for rs in test['redshift']:\n",
    "    if rs > 0:\n",
    "        distance_test.append((rs / (1+rs)) * 13.5 * 10**9)\n",
    "    else:\n",
    "        distance_test.append(10)\n",
    "\n",
    "test['distance'] = distance_test"
   ]
  },
  {
   "cell_type": "code",
   "execution_count": null,
   "metadata": {},
   "outputs": [],
   "source": [
    "# n값 처리\n",
    "train['nO-nD'] = train['nObserve'] - train['nDetect']\n",
    "test['nO-nD'] = test['nObserve'] - test['nDetect']"
   ]
  },
  {
   "cell_type": "code",
   "execution_count": null,
   "metadata": {},
   "outputs": [],
   "source": [
    "# 단순 나눗셈\n",
    "train['u/dered_u'] = train['u'] / train['dered_u'] - 1\n",
    "train['g/dered_g'] = train['g'] / train['dered_g'] - 1\n",
    "train['r/dered_r'] = train['r'] / train['dered_r'] - 1\n",
    "train['i/dered_i'] = train['i'] / train['dered_i'] - 1\n",
    "train['z/dered_z'] = train['z'] / train['dered_z'] - 1\n",
    "\n",
    "test['u/dered_u'] = test['u'] / test['dered_u'] - 1\n",
    "test['g/dered_g'] = test['g'] / test['dered_g'] - 1\n",
    "test['r/dered_r'] = test['r'] / test['dered_r'] - 1\n",
    "test['i/dered_i'] = test['i'] / test['dered_i'] - 1\n",
    "test['z/dered_z'] = test['z'] / test['dered_z'] - 1"
   ]
  },
  {
   "cell_type": "code",
   "execution_count": null,
   "metadata": {},
   "outputs": [],
   "source": [
    "train['M_u'] = train['u'] - 5*(np.log(train['distance']) - 1)\n",
    "train['M_g'] = train['g'] - 5*(np.log(train['distance']) - 1)\n",
    "train['M_r'] = train['r'] - 5*(np.log(train['distance']) - 1)\n",
    "train['M_i'] = train['i'] - 5*(np.log(train['distance']) - 1)\n",
    "train['M_z'] = train['z'] - 5*(np.log(train['distance']) - 1)\n",
    "train['M_dered_u'] = train['dered_u'] - 5*(np.log(train['distance']) - 1)\n",
    "train['M_dered_g'] = train['dered_g'] - 5*(np.log(train['distance']) - 1)\n",
    "train['M_dered_r'] = train['dered_r'] - 5*(np.log(train['distance']) - 1)\n",
    "train['M_dered_i'] = train['dered_i'] - 5*(np.log(train['distance']) - 1)\n",
    "train['M_dered_z'] = train['dered_z'] - 5*(np.log(train['distance']) - 1)\n",
    "train['max_dered_M'] = train[['M_dered_u', 'M_dered_g', 'M_dered_r', 'M_dered_i', 'M_dered_z']].max(axis=1)\n",
    "\n",
    "test['M_u'] = test['u'] - 5*(np.log(test['distance']) - 1)\n",
    "test['M_g'] = test['g'] - 5*(np.log(test['distance']) - 1)\n",
    "test['M_r'] = test['r'] - 5*(np.log(test['distance']) - 1)\n",
    "test['M_i'] = test['i'] - 5*(np.log(test['distance']) - 1)\n",
    "test['M_z'] = test['z'] - 5*(np.log(test['distance']) - 1)\n",
    "test['M_dered_u'] = test['dered_u'] - 5*(np.log(test['distance']) - 1)\n",
    "test['M_dered_g'] = test['dered_g'] - 5*(np.log(test['distance']) - 1)\n",
    "test['M_dered_r'] = test['dered_r'] - 5*(np.log(test['distance']) - 1)\n",
    "test['M_dered_i'] = test['dered_i'] - 5*(np.log(test['distance']) - 1)\n",
    "test['M_dered_z'] = test['dered_z'] - 5*(np.log(test['distance']) - 1)\n",
    "test['max_dered_M'] = test[['M_dered_u', 'M_dered_g', 'M_dered_r', 'M_dered_i', 'M_dered_z']].max(axis=1)"
   ]
  },
  {
   "cell_type": "code",
   "execution_count": null,
   "metadata": {},
   "outputs": [],
   "source": [
    "train['M_dered_u-g'] = train['M_dered_u'] - train['M_dered_g']\n",
    "train['M_dered_g-r'] = train['M_dered_g'] - train['M_dered_r']\n",
    "train['M_dered_r-i'] = train['M_dered_r'] - train['M_dered_i']\n",
    "train['M_dered_i-z'] = train['M_dered_i'] - train['M_dered_z']\n",
    "\n",
    "test['M_dered_u-g'] = test['M_dered_u'] - test['M_dered_g']\n",
    "test['M_dered_g-r'] = test['M_dered_g'] - test['M_dered_r']\n",
    "test['M_dered_r-i'] = test['M_dered_r'] - test['M_dered_i']\n",
    "test['M_dered_i-z'] = test['M_dered_i'] - test['M_dered_z']"
   ]
  },
  {
   "cell_type": "code",
   "execution_count": null,
   "metadata": {},
   "outputs": [],
   "source": [
    "bad_feature = ['g_max', 'g_min', 'g_diff', 'g_sum', 'r_max', 'r_min', 'r_diff', 'r_sum',\n",
    "               'i_max', 'i_min', 'i_diff', 'i_sum', 'z_max', 'z_min', 'z_diff', 'z_sum',\n",
    "               'dered_g_max', 'dered_g_min', 'dered_g_diff', 'dered_g_sum',\n",
    "               'dered_r_max', 'dered_r_min', 'dered_r_diff', 'dered_r_sum',\n",
    "               'dered_i_max', 'dered_i_min', 'dered_i_diff', 'dered_i_sum',\n",
    "               'dered_z_max', 'dered_z_min', 'dered_z_diff', 'dered_z_sum',\n",
    "               'class']"
   ]
  },
  {
   "cell_type": "code",
   "execution_count": null,
   "metadata": {},
   "outputs": [],
   "source": [
    "useful_columns = [c for c in train.columns if c not in bad_feature]"
   ]
  },
  {
   "cell_type": "code",
   "execution_count": null,
   "metadata": {},
   "outputs": [],
   "source": [
    "from sklearn.model_selection import train_test_split\n",
    "from keras.utils.np_utils import to_categorical\n",
    "from sklearn.preprocessing import RobustScaler\n",
    "\n",
    "X = train[useful_columns]\n",
    "labels = to_categorical(train['class'], num_classes=3)\n",
    "\n",
    "# scale features\n",
    "scaler = RobustScaler()\n",
    "scaler.fit(X) # fit scaler to training data only\n",
    "X = pd.DataFrame(scaler.transform(X), columns=X.columns)\n",
    "test = pd.DataFrame(scaler.transform(test[useful_columns]), columns=test[useful_columns].columns)\n",
    "\n",
    "x_train,x_test,y_train,y_test = train_test_split(X,labels,test_size=0.25,random_state=42)"
   ]
  },
  {
   "cell_type": "code",
   "execution_count": null,
   "metadata": {},
   "outputs": [],
   "source": [
    "from keras.models import Sequential\n",
    "from keras.layers import Dense, Dropout\n",
    "from keras.optimizers import Adam\n",
    "from keras.utils import plot_model\n",
    "from keras.losses import categorical_crossentropy\n",
    "\n",
    "def build_ann_model():\n",
    "    model = Sequential()\n",
    "    \n",
    "    model.add(Dense(units=1024,activation=\"relu\",input_dim=x_train.shape[1]))\n",
    "    model.add(Dense(units=512,activation=\"relu\"))\n",
    "    model.add(Dense(units=256,activation=\"relu\"))\n",
    "    model.add(Dense(units=y_train.shape[1],activation=\"softmax\"))\n",
    "    \n",
    "    optimizer = Adam(lr=0.000015,beta_1=0.9,beta_2=0.999)\n",
    "    \n",
    "    model.compile(optimizer=optimizer,metrics=[\"accuracy\"],loss=categorical_crossentropy)\n",
    "    return model"
   ]
  },
  {
   "cell_type": "code",
   "execution_count": null,
   "metadata": {},
   "outputs": [],
   "source": [
    "ann_model = build_ann_model()\n",
    "plot_model(ann_model,show_shapes=True)"
   ]
  },
  {
   "cell_type": "code",
   "execution_count": null,
   "metadata": {},
   "outputs": [],
   "source": [
    "# ann_history = ann_model.fit(x_train,y_train,epochs=20,batch_size=64,validation_split = 0.2,shuffle=True)\n",
    "# ypred = ann_model.predict(x_test)"
   ]
  },
  {
   "cell_type": "code",
   "execution_count": null,
   "metadata": {},
   "outputs": [],
   "source": [
    "# from sklearn.metrics import accuracy_score, confusion_matrix\n",
    "# import seaborn as sns\n",
    "\n",
    "# ann_accuracy = accuracy_score(y_test.argmax(axis=-1),ypred.argmax(axis=-1))\n",
    "# #print(\"ANN Accuracy:\",ann_accuracy)\n",
    "# ann_cn = confusion_matrix(y_test.argmax(axis=-1),ypred.argmax(axis=-1))\n",
    "# plt.subplots(figsize=(9,7))\n",
    "# sns.heatmap(ann_cn,annot=True,fmt=\"1d\",cbar=False,xticklabels=[0, 1, 2],yticklabels=[0, 1, 2])\n",
    "# plt.title(\"ANN Accuracy: {}\".format(ann_accuracy),fontsize=50)\n",
    "# plt.xlabel(\"Predicted\",fontsize=15)\n",
    "# plt.ylabel(\"Actual\",fontsize=15)\n",
    "# plt.show()"
   ]
  },
  {
   "cell_type": "code",
   "execution_count": null,
   "metadata": {},
   "outputs": [],
   "source": [
    "# fig3, axe1 = plt.subplots(nrows=1, ncols=2, figsize=(15,5))\n",
    "# axe1[0].plot(ann_history.history[\"accuracy\"],label=\"accuracy\",color=\"blue\")\n",
    "# axe1[1].plot(ann_history.history[\"loss\"],label=\"loss\",color=\"red\")\n",
    "# axe1[0].title.set_text(\"ANN Accuracy\")\n",
    "# axe1[1].title.set_text(\"ANN Loss\")\n",
    "# axe1[0].set_xlabel(\"Epoch\")\n",
    "# axe1[1].set_xlabel(\"Epoch\")\n",
    "# axe1[0].set_ylabel(\"Rate\")\n",
    "# plt.show()"
   ]
  },
  {
   "cell_type": "code",
   "execution_count": null,
   "metadata": {},
   "outputs": [],
   "source": [
    "# results = ann_model.evaluate(x_test, y_test)\n",
    "# print('Test accuracy: ', results[1])"
   ]
  },
  {
   "cell_type": "code",
   "execution_count": null,
   "metadata": {},
   "outputs": [],
   "source": [
    "# ann_submit = ann_model.predict(test)\n",
    "# print(ann_submit)\n",
    "# ann_submit = np.argmax(ann_submit, axis=1).reshape(-1, 1)"
   ]
  },
  {
   "cell_type": "code",
   "execution_count": null,
   "metadata": {},
   "outputs": [],
   "source": [
    "# from keras.preprocessing.sequence import pad_sequences\n",
    "\n",
    "#preparing x for CNN\n",
    "x_train = np.array(x_train).reshape((x_train.shape[0], 8, 8, 1))\n",
    "x_test = np.array(x_test).reshape((x_test.shape[0], 8, 8, 1))\n",
    "test = np.array(test).reshape((test.shape[0], 8, 8, 1))\n",
    "\n",
    "print(x_train.shape, x_test.shape, y_train.shape, y_test.shape)\n"
   ]
  },
  {
   "cell_type": "code",
   "execution_count": null,
   "metadata": {},
   "outputs": [],
   "source": [
    "from keras import optimizers\n",
    "from keras.layers import Dense, Activation, Flatten, Conv2D, MaxPooling2D\n",
    "\n",
    "def deep_cnn():\n",
    "    model = Sequential()\n",
    "\n",
    "    model.add(Conv2D(input_shape = (x_train.shape[1], x_train.shape[2], x_train.shape[3]), filters = 64, kernel_size = (3,3), strides = (1,1), padding = 'same'))\n",
    "    model.add(Activation('relu'))\n",
    "    model.add(Conv2D(filters = 64, kernel_size = (3,3), strides = (1,1), padding = 'same'))\n",
    "    model.add(Activation('relu'))\n",
    "    model.add(MaxPooling2D(pool_size = (2,2)))\n",
    "    model.add(Conv2D(filters = 32, kernel_size = (3,3), strides = (1,1), padding = 'same'))\n",
    "    model.add(Activation('relu'))\n",
    "    model.add(Conv2D(filters = 32, kernel_size = (3,3), strides = (1,1), padding = 'same'))\n",
    "    model.add(Activation('relu'))\n",
    "    model.add(MaxPooling2D(pool_size = (2,2)))\n",
    "    model.add(Conv2D(filters = 16, kernel_size = (3,3), strides = (1,1), padding = 'same'))\n",
    "    model.add(Activation('relu'))\n",
    "    model.add(Conv2D(filters = 16, kernel_size = (3,3), strides = (1,1), padding = 'same'))\n",
    "    model.add(Activation('relu'))\n",
    "    model.add(MaxPooling2D(pool_size = (2,2)))\n",
    "\n",
    "    # prior layer should be flattend to be connected to dense layers\n",
    "    model.add(Flatten())\n",
    "    # dense layer with 50 neurons\n",
    "    model.add(Dense(8, activation = 'relu'))\n",
    "    # final layer with 3 neurons to classify the instances\n",
    "    model.add(Dense(3, activation = 'softmax'))\n",
    "\n",
    "    adam = optimizers.Adam(lr = 0.001)\n",
    "    model.compile(optimizer = adam, metrics = ['accuracy'], loss = 'categorical_crossentropy')\n",
    "\n",
    "    return model\n",
    "\n",
    "cnn_model = deep_cnn()\n",
    "cnn_model.summary()"
   ]
  },
  {
   "cell_type": "code",
   "execution_count": null,
   "metadata": {},
   "outputs": [],
   "source": [
    "cnn_history = cnn_model.fit(x_train,y_train,epochs=20,batch_size=8,validation_split=0.2,shuffle=True)\n",
    "pred = cnn_model.predict(X_test)"
   ]
  },
  {
   "cell_type": "code",
   "execution_count": null,
   "metadata": {},
   "outputs": [],
   "source": [
    "cnn_accuracy = accuracy_score(y_test.argmax(axis=-1),pred.argmax(axis=-1))\n",
    "#print(\"CNN Accuracy:\",ann_accuracy)\n",
    "cnn_cn = confusion_matrix(y_test.argmax(axis=-1),pred.argmax(axis=-1))\n",
    "plt.subplots(figsize=(9,7))\n",
    "sns.heatmap(cnn_cn,annot=True,fmt=\"1d\",cbar=False,xticklabels=[0, 1, 2],yticklabels=[0, 1, 2])\n",
    "plt.title(\"CNN Accuracy: {}\".format(cnn_accuracy),fontsize=50)\n",
    "plt.xlabel(\"Predicted\",fontsize=15)\n",
    "plt.ylabel(\"Actual\",fontsize=15)\n",
    "plt.show()"
   ]
  },
  {
   "cell_type": "code",
   "execution_count": null,
   "metadata": {},
   "outputs": [],
   "source": [
    "fig3, axe1 = plt.subplots(nrows=1, ncols=2, figsize=(15,5))\n",
    "axe1[0].plot(cnn_history.history[\"accuracy\"],label=\"accuracy\",color=\"blue\")\n",
    "axe1[1].plot(cnn_history.history[\"loss\"],label=\"loss\",color=\"red\")\n",
    "axe1[0].title.set_text(\"CNN Accuracy\")\n",
    "axe1[1].title.set_text(\"CNN Loss\")\n",
    "axe1[0].set_xlabel(\"Epoch\")\n",
    "axe1[1].set_xlabel(\"Epoch\")\n",
    "axe1[0].set_ylabel(\"Rate\")\n",
    "plt.show()"
   ]
  },
  {
   "cell_type": "code",
   "execution_count": null,
   "metadata": {},
   "outputs": [],
   "source": [
    "results = cnn_model.evaluate(x_test, y_test)\n",
    "print('Test accuracy: ', results[1])"
   ]
  }
 ],
 "metadata": {
  "kernelspec": {
   "display_name": "Python 3",
   "language": "python",
   "name": "python3"
  },
  "language_info": {
   "codemirror_mode": {
    "name": "ipython",
    "version": 3
   },
   "file_extension": ".py",
   "mimetype": "text/x-python",
   "name": "python",
   "nbconvert_exporter": "python",
   "pygments_lexer": "ipython3",
   "version": "3.7.4"
  }
 },
 "nbformat": 4,
 "nbformat_minor": 2
}
