{
 "cells": [
  {
   "cell_type": "code",
   "execution_count": null,
   "metadata": {},
   "outputs": [],
   "source": [
    "#importing libraries\n",
    "import numpy as np\n",
    "import pandas as pd\n",
    "import lightgbm as lgb\n",
    "from pylab import rcParams\n",
    "from sklearn.model_selection import train_test_split\n",
    "from sklearn.preprocessing import RobustScaler\n",
    "from sklearn.metrics import accuracy_score\n",
    "import matplotlib.pyplot as plt\n",
    "from lightgbm import plot_importance\n",
    "from datetime import datetime\n",
    "%matplotlib inline"
   ]
  },
  {
   "cell_type": "code",
   "execution_count": 19,
   "metadata": {},
   "outputs": [],
   "source": [
    "# load data\n",
    "train = pd.read_csv(\"./train.csv\", index_col=0)\n",
    "test = pd.read_csv(\"./test.csv\", index_col=0)\n",
    "submission = pd.read_csv(\"./sample_submission.csv\")"
   ]
  },
  {
   "cell_type": "code",
   "execution_count": 20,
   "metadata": {},
   "outputs": [],
   "source": [
    "train = train.dropna()\n",
    "train = train.drop(train[train['dered_g']==-9999].index)\n",
    "train = train.drop(train[train['dered_i']==-9999].index)\n",
    "train = train.drop(train[train['dered_z']==-9999].index)"
   ]
  },
  {
   "cell_type": "code",
   "execution_count": 21,
   "metadata": {},
   "outputs": [],
   "source": [
    "#유용한 값들 추가\n",
    "train['u-g'] = train['u'] - train['g']\n",
    "train['g-r'] = train['g'] - train['r']\n",
    "train['r-i'] = train['r'] - train['i']\n",
    "train['i-z'] = train['i'] - train['z']\n",
    "train['dered_u-g'] = train['dered_u'] - train['dered_g']\n",
    "train['dered_g-r'] = train['dered_g'] - train['dered_r']\n",
    "train['dered_r-i'] = train['dered_r'] - train['dered_i']\n",
    "train['dered_i-z'] = train['dered_i'] - train['dered_z']\n",
    "\n",
    "test['u-g'] = test['u'] - test['g']\n",
    "test['g-r'] = test['g'] - test['r']\n",
    "test['r-i'] = test['r'] - test['i']\n",
    "test['i-z'] = test['i'] - test['z']\n",
    "test['dered_u-g'] = test['dered_u'] - test['dered_g']\n",
    "test['dered_g-r'] = test['dered_g'] - test['dered_r']\n",
    "test['dered_r-i'] = test['dered_r'] - test['dered_i']\n",
    "test['dered_i-z'] = test['dered_i'] - test['dered_z']"
   ]
  },
  {
   "cell_type": "code",
   "execution_count": 22,
   "metadata": {},
   "outputs": [],
   "source": [
    "# # Magnitude m in terms of radiant flux F\n",
    "# train['u/g'] = np.exp(-train['u-g'])\n",
    "# train['g/r'] = np.exp(-train['g-r'])\n",
    "# train['r/i'] = np.exp(-train['r-i'])\n",
    "# train['i/z'] = np.exp(-train['i-z'])"
   ]
  },
  {
   "cell_type": "code",
   "execution_count": 23,
   "metadata": {},
   "outputs": [],
   "source": [
    "# n값 처리\n",
    "train['nO-nD'] = train['nObserve'] - train['nDetect']\n",
    "del train['nObserve']\n",
    "del train['nDetect']\n",
    "del train['airmass_u']\n",
    "del train['airmass_g']\n",
    "del train['airmass_r']\n",
    "del train['airmass_i']\n",
    "del train['airmass_z']\n",
    "\n",
    "test['nO-nD'] = test['nObserve'] - test['nDetect']\n",
    "del test['nObserve']\n",
    "del test['nDetect']\n",
    "del test['airmass_u']\n",
    "del test['airmass_g']\n",
    "del test['airmass_r']\n",
    "del test['airmass_i']\n",
    "del test['airmass_z']"
   ]
  },
  {
   "cell_type": "code",
   "execution_count": 24,
   "metadata": {},
   "outputs": [],
   "source": [
    "# rare_train = train[[\"u\", \"g\", \"r\", \"i\", \"z\"]]\n",
    "# dered_train = train[[\"dered_u\", \"dered_g\", \"dered_r\", \"dered_i\", \"dered_z\"]]\n",
    "\n",
    "# rare_test = test[[\"u\", \"g\", \"r\", \"i\", \"z\"]]\n",
    "# dered_test = test[[\"dered_u\", \"dered_g\", \"dered_r\", \"dered_i\", \"dered_z\"]]"
   ]
  },
  {
   "cell_type": "code",
   "execution_count": 25,
   "metadata": {},
   "outputs": [],
   "source": [
    "# train[\"rare_mean\"] = rare_train.mean(axis = 1)\n",
    "# train[\"rare_var\"] = rare_train.var(axis = 1)\n",
    "# train[\"rare_std\"] = rare_train.std(axis = 1)\n",
    "# train[\"rare_sum\"] = rare_train.sum(axis = 1)\n",
    "# train[\"rare_median\"] = rare_train.median(axis = 1)\n",
    "# train['dered_mean'] = dered_train.mean(axis=1)\n",
    "# train['dered_var'] = dered_train.var(axis=1)\n",
    "# train['dered_std'] = dered_train.std(axis=1)\n",
    "# train['dered_sum'] = dered_train.sum(axis=1)\n",
    "# train['dered_median'] = dered_train.median(axis=1)\n",
    "\n",
    "# test[\"rare_mean\"] = rare_test.mean(axis = 1)\n",
    "# test[\"rare_var\"] = rare_test.var(axis = 1)\n",
    "# test[\"rare_std\"] = rare_test.std(axis = 1)\n",
    "# test[\"rare_sum\"] = rare_test.sum(axis = 1)\n",
    "# test[\"rare_median\"] = rare_test.median(axis = 1)\n",
    "# test['dered_mean'] = dered_test.mean(axis=1)\n",
    "# test['dered_var'] = dered_test.var(axis=1)\n",
    "# test['dered_std'] = dered_test.std(axis=1)\n",
    "# test['dered_sum'] = dered_test.sum(axis=1)\n",
    "# test['dered_median'] = dered_test.median(axis=1)"
   ]
  },
  {
   "cell_type": "code",
   "execution_count": 26,
   "metadata": {},
   "outputs": [],
   "source": [
    "# split data into X and y\n",
    "Y = train['class']\n",
    "del train['class']\n",
    "X = train"
   ]
  },
  {
   "cell_type": "code",
   "execution_count": 27,
   "metadata": {},
   "outputs": [],
   "source": [
    "#train-test-split\n",
    "X_train,X_test,y_train,y_test=train_test_split(X, Y, test_size=0.25, random_state=0)\n",
    "d_train = lgb.Dataset(X_train, label=y_train)\n",
    "eval_set = [(X_test, y_test)]"
   ]
  },
  {
   "cell_type": "code",
   "execution_count": null,
   "metadata": {},
   "outputs": [],
   "source": [
    "start_time = datetime.now()\n",
    "\n",
    "#setting up the parameters\n",
    "params={}\n",
    "params['learning_rate']=0.1\n",
    "params['boosting_type']='gbdt'\n",
    "params['objective']='multiclass'\n",
    "params['metric']='multi_logloss'\n",
    "params['num_class']=3\n",
    "# params['scale_pos_weight']=1.2\n",
    "params['max_depth']=11\n",
    "# params['feature_fraction']=0.8\n",
    "params['num_estimators']=1000\n",
    "\n",
    "#training the model\n",
    "model = lgb.train(params,d_train,1000)\n",
    "y_pred = model.predict(X_test)\n",
    "\n",
    "end_time = datetime.now()\n",
    "print(\"\\nelapsed time = \", end_time - start_time)"
   ]
  },
  {
   "cell_type": "code",
   "execution_count": null,
   "metadata": {},
   "outputs": [],
   "source": [
    "plot_importance(model)"
   ]
  },
  {
   "cell_type": "code",
   "execution_count": null,
   "metadata": {},
   "outputs": [],
   "source": [
    "#argmax() method \n",
    "y_pred = [np.argmax(line) for line in y_pred]"
   ]
  },
  {
   "cell_type": "code",
   "execution_count": null,
   "metadata": {},
   "outputs": [],
   "source": [
    "accuracy_score(y_test, y_pred)"
   ]
  },
  {
   "cell_type": "code",
   "execution_count": null,
   "metadata": {},
   "outputs": [],
   "source": [
    "# pred = model.predict(test)\n",
    "# pred = [np.argmax(line) for line in pred]\n",
    "# submission['class'] = pred\n",
    "# submission.to_csv(\"submission_lgb.csv\",index=False, encoding='utf-8-sig')"
   ]
  }
 ],
 "metadata": {
  "kernelspec": {
   "display_name": "Python 3",
   "language": "python",
   "name": "python3"
  },
  "language_info": {
   "codemirror_mode": {
    "name": "ipython",
    "version": 3
   },
   "file_extension": ".py",
   "mimetype": "text/x-python",
   "name": "python",
   "nbconvert_exporter": "python",
   "pygments_lexer": "ipython3",
   "version": "3.7.4"
  }
 },
 "nbformat": 4,
 "nbformat_minor": 2
}
